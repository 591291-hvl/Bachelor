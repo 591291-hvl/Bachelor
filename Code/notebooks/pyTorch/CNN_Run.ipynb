{
 "cells": [
  {
   "cell_type": "code",
   "execution_count": 19,
   "metadata": {},
   "outputs": [],
   "source": [
    "import numpy as np\n",
    "import matplotlib.pyplot as plt\n",
    "# import pandas as pd\n",
    "\n",
    "#other libraries\n",
    "# from tqdm import tqdm\n",
    "# import time\n",
    "# import random\n",
    "import os\n",
    "import sys\n",
    "from pathlib import Path\n",
    "import h5py\n",
    "\n",
    "#torch specific\n",
    "import torch\n",
    "import torchvision as torchv\n",
    "import torch.nn as nn\n",
    "import torch.nn.functional as F\n",
    "import torch.optim as optim\n",
    "from torch.utils.data import DataLoader\n",
    "from torch.utils.data import Dataset\n",
    "from torch import Tensor\n",
    "from torch.utils import data\n",
    "\n",
    "from sklearn.model_selection import train_test_split\n",
    "import wandb\n",
    "\n",
    "from sklearn.metrics import confusion_matrix, precision_score, recall_score\n",
    "import pandas as pd\n",
    "import seaborn as sns"
   ]
  },
  {
   "cell_type": "code",
   "execution_count": 20,
   "metadata": {},
   "outputs": [],
   "source": [
    "# Importerer spaleron og micro svarte hull data\n",
    "\n",
    "module_path = str(Path.cwd().parents[0].parents[0] / \"src\")\n",
    "\n",
    "if module_path not in sys.path:\n",
    "    sys.path.append(module_path)\n",
    "\n",
    "from dataloader import *\n",
    "# from plotCreator import *\n",
    "import trainers\n",
    "import lossFunctions\n",
    "\n",
    "data_path0 = str(Path.cwd().parents[0].parents[0] / \"data\" / \"bh\" / \"BH_n4_M10_res50_15000_events.h5\")\n",
    "data_path1 = str(Path.cwd().parents[0].parents[0] / \"data\" / \"sph\" / \"PP13-Sphaleron-THR9-FRZ15-NB0-NSUBPALL_res50_15000_events.h5\")"
   ]
  },
  {
   "cell_type": "code",
   "execution_count": 21,
   "metadata": {},
   "outputs": [],
   "source": [
    "bhArray = dataToArray(data_path0)\n",
    "sphArray = dataToArray(data_path1)"
   ]
  },
  {
   "cell_type": "code",
   "execution_count": 22,
   "metadata": {},
   "outputs": [
    {
     "name": "stdout",
     "output_type": "stream",
     "text": [
      "(15000, 50, 50, 3)\n",
      "(15000, 50, 50, 3)\n"
     ]
    }
   ],
   "source": [
    "print(bhArray.shape)\n",
    "print(sphArray.shape)"
   ]
  },
  {
   "cell_type": "code",
   "execution_count": 23,
   "metadata": {},
   "outputs": [],
   "source": [
    "# Vi slår sammen dataene for å ha et samlet datasett som kjører gjennom modellen\n",
    "dataArray = np.concatenate((bhArray,sphArray),axis=0)"
   ]
  },
  {
   "cell_type": "code",
   "execution_count": 24,
   "metadata": {},
   "outputs": [],
   "source": [
    "# Labeler tabelle med 1 og 0 (0 = svart hull, 1 = spahleron)\n",
    "labelsArray = np.concatenate((np.zeros(np.shape(bhArray)[0]),np.ones(np.shape(sphArray)[0])),axis=0)"
   ]
  },
  {
   "cell_type": "code",
   "execution_count": 25,
   "metadata": {},
   "outputs": [
    {
     "name": "stdout",
     "output_type": "stream",
     "text": [
      "Running on the CPU\n"
     ]
    }
   ],
   "source": [
    "if torch.cuda.is_available():\n",
    "    device = torch.device(\"cuda\")\n",
    "    print(\"Running on the GPU\")\n",
    "else:\n",
    "    device = torch.device(\"cpu\")\n",
    "    print(\"Running on the CPU\")"
   ]
  },
  {
   "cell_type": "code",
   "execution_count": 26,
   "metadata": {},
   "outputs": [],
   "source": [
    "# 75% av datasettet havner i trainData, 25% havner i testData, \n",
    "trainData, testData, trainLabels, testLabels = train_test_split(dataArray, labelsArray, random_state=42)"
   ]
  },
  {
   "cell_type": "code",
   "execution_count": 27,
   "metadata": {},
   "outputs": [],
   "source": [
    "# gjør det om til en tensor fra numpy array. Vi gjør dette for at at dataene skal være lagret på GPU en istedet for en liste som er lagret på CPUen \n",
    "trainData = torch.from_numpy(trainData)\n",
    "testData = torch.from_numpy(testData)\n",
    "trainLabels = torch.from_numpy(trainLabels)\n",
    "testLabels = torch.from_numpy(testLabels)"
   ]
  },
  {
   "cell_type": "code",
   "execution_count": 28,
   "metadata": {},
   "outputs": [],
   "source": [
    "# to tensor datasett \n",
    "train = torch.utils.data.TensorDataset(trainData, trainLabels)\n",
    "test = torch.utils.data.TensorDataset(testData, testLabels)"
   ]
  },
  {
   "cell_type": "code",
   "execution_count": 29,
   "metadata": {},
   "outputs": [],
   "source": [
    "# Her kommer modellen inn XD \n",
    "class ConvModel(nn.Module):\n",
    "    def __init__(self, dropout):\n",
    "\n",
    "        super(ConvModel, self).__init__()\n",
    "        # 2 cov lag blir opprette. Bildene har x, y og z verdi. \n",
    "        self.conv1 = nn.Conv2d(in_channels=3, out_channels=16, kernel_size=3, padding=0)\n",
    "        self.conv2 = nn.Conv2d(in_channels=16, out_channels=64, kernel_size=3, padding=0)\n",
    "        self.conv3 = nn.Conv2d(in_channels=64, out_channels=256, kernel_size=3, padding=0)\n",
    "\n",
    "        self.fc1 = nn.Linear(3*3*256, 128)\n",
    "        self.fc2 = nn.Linear(128,2)\n",
    "\n",
    "        self.dropout = nn.Dropout(dropout)\n",
    "\n",
    "\n",
    "\n",
    "    def forward(self, x:Tensor):\n",
    "        x = self.conv1(x)\n",
    "        x = F.relu(x) #to activate function above\n",
    "\n",
    "        x = F.max_pool2d(x,2)\n",
    "\n",
    "        x = self.conv2(x)\n",
    "        x = F.relu(x)\n",
    "\n",
    "        x = F.max_pool2d(x,2)\n",
    "\n",
    "        x = self.conv3(x)\n",
    "        x = F.relu(x)\n",
    "\n",
    "        x = F.max_pool2d(x,3)\n",
    "\n",
    "        x = torch.flatten(x, 1)\n",
    "\n",
    "        x = self.fc1(x)\n",
    "        x = F.relu(x)\n",
    "\n",
    "        x = self.dropout(x)\n",
    "\n",
    "        x = self.fc2(x)\n",
    " \n",
    "        return x"
   ]
  },
  {
   "cell_type": "code",
   "execution_count": 30,
   "metadata": {},
   "outputs": [
    {
     "name": "stdout",
     "output_type": "stream",
     "text": [
      "----------------------------------------------------------------\n",
      "        Layer (type)               Output Shape         Param #\n",
      "================================================================\n",
      "            Conv2d-1           [-1, 16, 48, 48]             448\n",
      "            Conv2d-2           [-1, 64, 22, 22]           9,280\n",
      "            Conv2d-3            [-1, 256, 9, 9]         147,712\n",
      "            Linear-4                  [-1, 128]         295,040\n",
      "           Dropout-5                  [-1, 128]               0\n",
      "            Linear-6                    [-1, 2]             258\n",
      "================================================================\n",
      "Total params: 452,738\n",
      "Trainable params: 452,738\n",
      "Non-trainable params: 0\n",
      "----------------------------------------------------------------\n",
      "Input size (MB): 0.03\n",
      "Forward/backward pass size (MB): 0.68\n",
      "Params size (MB): 1.73\n",
      "Estimated Total Size (MB): 2.43\n",
      "----------------------------------------------------------------\n"
     ]
    }
   ],
   "source": [
    "from torchvision import models\n",
    "from torchsummary import summary\n",
    "\n",
    "model = ConvModel(0).to(device)\n",
    "summary(model, (3, 50, 50))"
   ]
  },
  {
   "cell_type": "code",
   "execution_count": 31,
   "metadata": {},
   "outputs": [
    {
     "data": {
      "text/html": [
       "Finishing last run (ID:e0qatf2t) before initializing another..."
      ],
      "text/plain": [
       "<IPython.core.display.HTML object>"
      ]
     },
     "metadata": {},
     "output_type": "display_data"
    },
    {
     "data": {
      "text/html": [
       "Waiting for W&B process to finish... <strong style=\"color:green\">(success).</strong>"
      ],
      "text/plain": [
       "<IPython.core.display.HTML object>"
      ]
     },
     "metadata": {},
     "output_type": "display_data"
    },
    {
     "data": {
      "text/html": [
       "<style>\n",
       "    table.wandb td:nth-child(1) { padding: 0 10px; text-align: left ; width: auto;} td:nth-child(2) {text-align: left ; width: 100%}\n",
       "    .wandb-row { display: flex; flex-direction: row; flex-wrap: wrap; justify-content: flex-start; width: 100% }\n",
       "    .wandb-col { display: flex; flex-direction: column; flex-basis: 100%; flex: 1; padding: 10px; }\n",
       "    </style>\n",
       "<div class=\"wandb-row\"><div class=\"wandb-col\"><h3>Run history:</h3><br/><table class=\"wandb\"><tr><td>BH accuracy</td><td>▁▁▁▁▁▁</td></tr><tr><td>SPH accuracy</td><td>▁▁▁▁▁▁</td></tr><tr><td>Test accuracy</td><td>▁▁▁▁▁▁</td></tr><tr><td>Test epoch_loss</td><td>▃█▁▃▄▆</td></tr><tr><td>Test precision</td><td>▁▁▁▁▁▁</td></tr><tr><td>Test recall</td><td>▁▁▁▁▁▁</td></tr><tr><td>Train accuracy</td><td>▁▁▁▁▁</td></tr><tr><td>Train epoch_loss</td><td>▆█▇▇▁</td></tr></table><br/></div><div class=\"wandb-col\"><h3>Run summary:</h3><br/><table class=\"wandb\"><tr><td>BH accuracy</td><td>0.01635</td></tr><tr><td>SPH accuracy</td><td>0.98544</td></tr><tr><td>Test accuracy</td><td>0.4956</td></tr><tr><td>Test epoch_loss</td><td>0.8024</td></tr><tr><td>Test precision</td><td>0.98544</td></tr><tr><td>Test recall</td><td>0.49499</td></tr><tr><td>Train accuracy</td><td>0.50227</td></tr><tr><td>Train epoch_loss</td><td>0.71364</td></tr></table><br/></div></div>"
      ],
      "text/plain": [
       "<IPython.core.display.HTML object>"
      ]
     },
     "metadata": {},
     "output_type": "display_data"
    },
    {
     "data": {
      "text/html": [
       " View run <strong style=\"color:#cdcd00\">feasible-dawn-54</strong> at: <a href='https://wandb.ai/g13hvl2023/CNN_run/runs/e0qatf2t' target=\"_blank\">https://wandb.ai/g13hvl2023/CNN_run/runs/e0qatf2t</a><br/>Synced 5 W&B file(s), 0 media file(s), 0 artifact file(s) and 0 other file(s)"
      ],
      "text/plain": [
       "<IPython.core.display.HTML object>"
      ]
     },
     "metadata": {},
     "output_type": "display_data"
    },
    {
     "data": {
      "text/html": [
       "Find logs at: <code>.\\wandb\\run-20230323_001907-e0qatf2t\\logs</code>"
      ],
      "text/plain": [
       "<IPython.core.display.HTML object>"
      ]
     },
     "metadata": {},
     "output_type": "display_data"
    },
    {
     "data": {
      "text/html": [
       "Successfully finished last run (ID:e0qatf2t). Initializing new run:<br/>"
      ],
      "text/plain": [
       "<IPython.core.display.HTML object>"
      ]
     },
     "metadata": {},
     "output_type": "display_data"
    },
    {
     "data": {
      "text/html": [
       "wandb version 0.14.0 is available!  To upgrade, please run:\n",
       " $ pip install wandb --upgrade"
      ],
      "text/plain": [
       "<IPython.core.display.HTML object>"
      ]
     },
     "metadata": {},
     "output_type": "display_data"
    },
    {
     "data": {
      "text/html": [
       "Tracking run with wandb version 0.13.10"
      ],
      "text/plain": [
       "<IPython.core.display.HTML object>"
      ]
     },
     "metadata": {},
     "output_type": "display_data"
    },
    {
     "data": {
      "text/html": [
       "Run data is saved locally in <code>c:\\Users\\47472\\Documents\\Skole\\Hvl\\s6\\dat191\\Bachelor\\Code\\notebooks\\pyTorch\\wandb\\run-20230323_002213-s2pyjzfn</code>"
      ],
      "text/plain": [
       "<IPython.core.display.HTML object>"
      ]
     },
     "metadata": {},
     "output_type": "display_data"
    },
    {
     "data": {
      "text/html": [
       "Syncing run <strong><a href='https://wandb.ai/g13hvl2023/CNN_run/runs/s2pyjzfn' target=\"_blank\">usual-frog-55</a></strong> to <a href='https://wandb.ai/g13hvl2023/CNN_run' target=\"_blank\">Weights & Biases</a> (<a href='https://wandb.me/run' target=\"_blank\">docs</a>)<br/>"
      ],
      "text/plain": [
       "<IPython.core.display.HTML object>"
      ]
     },
     "metadata": {},
     "output_type": "display_data"
    },
    {
     "data": {
      "text/html": [
       " View project at <a href='https://wandb.ai/g13hvl2023/CNN_run' target=\"_blank\">https://wandb.ai/g13hvl2023/CNN_run</a>"
      ],
      "text/plain": [
       "<IPython.core.display.HTML object>"
      ]
     },
     "metadata": {},
     "output_type": "display_data"
    },
    {
     "data": {
      "text/html": [
       " View run at <a href='https://wandb.ai/g13hvl2023/CNN_run/runs/s2pyjzfn' target=\"_blank\">https://wandb.ai/g13hvl2023/CNN_run/runs/s2pyjzfn</a>"
      ],
      "text/plain": [
       "<IPython.core.display.HTML object>"
      ]
     },
     "metadata": {},
     "output_type": "display_data"
    }
   ],
   "source": [
    "config = {\n",
    "    'loss': 'zeroOne',\n",
    "    'epoch': 5,\n",
    "    'batch_size': 50,\n",
    "    'gamma': 1,\n",
    "    'learning_rate': 0.01,\n",
    "    'optimizer': 'adam',\n",
    "    'dropout': 0\n",
    "}\n",
    "\n",
    "# Pass the config dictionary when you initialize W&B\n",
    "run = wandb.init(project=\"CNN_run\", config=config)\n",
    "\n",
    "model = ConvModel(config['dropout']).to(device)"
   ]
  },
  {
   "cell_type": "code",
   "execution_count": 32,
   "metadata": {},
   "outputs": [
    {
     "name": "stderr",
     "output_type": "stream",
     "text": [
      "c:\\Users\\47472\\Documents\\Skole\\Hvl\\s6\\dat191\\Bachelor\\Code\\src\\trainers.py:168: SyntaxWarning: \"is\" with a literal. Did you mean \"==\"?\n",
      "  if config.optimizer is 'adam':\n",
      "c:\\Users\\47472\\Documents\\Skole\\Hvl\\s6\\dat191\\Bachelor\\Code\\src\\trainers.py:168: SyntaxWarning: \"is\" with a literal. Did you mean \"==\"?\n",
      "  if config.optimizer is 'adam':\n",
      "c:\\Users\\47472\\Documents\\Skole\\Hvl\\s6\\dat191\\Bachelor\\Code\\src\\trainers.py:168: SyntaxWarning: \"is\" with a literal. Did you mean \"==\"?\n",
      "  if config.optimizer is 'adam':\n",
      "c:\\Users\\47472\\Documents\\Skole\\Hvl\\s6\\dat191\\Bachelor\\Code\\src\\trainers.py:168: SyntaxWarning: \"is\" with a literal. Did you mean \"==\"?\n",
      "  if config.optimizer is 'adam':\n",
      "c:\\Users\\47472\\Documents\\Skole\\Hvl\\s6\\dat191\\Bachelor\\Code\\src\\trainers.py:168: SyntaxWarning: \"is\" with a literal. Did you mean \"==\"?\n",
      "  if config.optimizer is 'adam':\n"
     ]
    },
    {
     "ename": "KeyboardInterrupt",
     "evalue": "",
     "output_type": "error",
     "traceback": [
      "\u001b[1;31m---------------------------------------------------------------------------\u001b[0m",
      "\u001b[1;31mKeyboardInterrupt\u001b[0m                         Traceback (most recent call last)",
      "\u001b[1;32mc:\\Users\\47472\\Documents\\Skole\\Hvl\\s6\\dat191\\Bachelor\\Code\\notebooks\\pyTorch\\CNN_Run.ipynb Cell 14\u001b[0m in \u001b[0;36m<module>\u001b[1;34m\u001b[0m\n\u001b[1;32m----> <a href='vscode-notebook-cell:/c%3A/Users/47472/Documents/Skole/Hvl/s6/dat191/Bachelor/Code/notebooks/pyTorch/CNN_Run.ipynb#X16sZmlsZQ%3D%3D?line=0'>1</a>\u001b[0m model, y_pred, y_true \u001b[39m=\u001b[39m trainers\u001b[39m.\u001b[39;49mrun(model, train, test, config)\n",
      "File \u001b[1;32mc:\\Users\\47472\\Documents\\Skole\\Hvl\\s6\\dat191\\Bachelor\\Code\\src\\trainers.py:131\u001b[0m, in \u001b[0;36mrun\u001b[1;34m(model, train, test, config)\u001b[0m\n\u001b[0;32m    127\u001b[0m \u001b[39m#START\u001b[39;00m\n\u001b[0;32m    128\u001b[0m \u001b[39mfor\u001b[39;00m epoch \u001b[39min\u001b[39;00m \u001b[39mrange\u001b[39m(config[\u001b[39m'\u001b[39m\u001b[39mepoch\u001b[39m\u001b[39m'\u001b[39m]):\n\u001b[0;32m    129\u001b[0m     \u001b[39m# =========================================\u001b[39;00m\n\u001b[0;32m    130\u001b[0m     \u001b[39m#Train\u001b[39;00m\n\u001b[1;32m--> 131\u001b[0m     trainAccuracy, trainRunningLoss \u001b[39m=\u001b[39m trainLoop(model, trainLoader, criterion, optimizer, train)\n\u001b[0;32m    132\u001b[0m     \u001b[39m# =========================================\u001b[39;00m\n\u001b[0;32m    133\u001b[0m     \n\u001b[0;32m    134\u001b[0m \n\u001b[0;32m    135\u001b[0m     \u001b[39m# =========================================\u001b[39;00m\n\u001b[0;32m    136\u001b[0m     \u001b[39m#test\u001b[39;00m\n\u001b[0;32m    137\u001b[0m     testAccuracy, testRunningLoss, testRecall, testPrecision, bhAccuarcy, sphAccuracy, y_pred, y_true \u001b[39m=\u001b[39m testLoop(model, testLoader, criterion, test)\n",
      "File \u001b[1;32mc:\\Users\\47472\\Documents\\Skole\\Hvl\\s6\\dat191\\Bachelor\\Code\\src\\trainers.py:29\u001b[0m, in \u001b[0;36mtrainLoop\u001b[1;34m(model, trainLoader, criterion, optimizer, train)\u001b[0m\n\u001b[0;32m     26\u001b[0m inputs, labels \u001b[39m=\u001b[39m inputs\u001b[39m.\u001b[39mto(device), labels\u001b[39m.\u001b[39mto(device)\n\u001b[0;32m     28\u001b[0m optimizer\u001b[39m.\u001b[39mzero_grad() \n\u001b[1;32m---> 29\u001b[0m output \u001b[39m=\u001b[39m model(inputs\u001b[39m.\u001b[39;49mpermute(\u001b[39m0\u001b[39;49m,\u001b[39m3\u001b[39;49m,\u001b[39m1\u001b[39;49m,\u001b[39m2\u001b[39;49m)) \u001b[39m# bytter på rekkefølge til dimensjonene \u001b[39;00m\n\u001b[0;32m     30\u001b[0m output1 \u001b[39m=\u001b[39m (torch\u001b[39m.\u001b[39mmax(output\u001b[39m.\u001b[39mto(device), \u001b[39m1\u001b[39m)[\u001b[39m1\u001b[39m]) \u001b[39m# den predictede outputtn \u001b[39;00m\n\u001b[0;32m     31\u001b[0m y_pred\u001b[39m.\u001b[39mextend(output1) \u001b[39m# Save Prediction\u001b[39;00m\n",
      "File \u001b[1;32mc:\\Users\\47472\\AppData\\Local\\Programs\\Python\\Python39\\lib\\site-packages\\torch\\nn\\modules\\module.py:1148\u001b[0m, in \u001b[0;36mModule._call_impl\u001b[1;34m(self, *input, **kwargs)\u001b[0m\n\u001b[0;32m   1145\u001b[0m     bw_hook \u001b[39m=\u001b[39m hooks\u001b[39m.\u001b[39mBackwardHook(\u001b[39mself\u001b[39m, full_backward_hooks)\n\u001b[0;32m   1146\u001b[0m     \u001b[39minput\u001b[39m \u001b[39m=\u001b[39m bw_hook\u001b[39m.\u001b[39msetup_input_hook(\u001b[39minput\u001b[39m)\n\u001b[1;32m-> 1148\u001b[0m result \u001b[39m=\u001b[39m forward_call(\u001b[39m*\u001b[39m\u001b[39minput\u001b[39m, \u001b[39m*\u001b[39m\u001b[39m*\u001b[39mkwargs)\n\u001b[0;32m   1149\u001b[0m \u001b[39mif\u001b[39;00m _global_forward_hooks \u001b[39mor\u001b[39;00m \u001b[39mself\u001b[39m\u001b[39m.\u001b[39m_forward_hooks:\n\u001b[0;32m   1150\u001b[0m     \u001b[39mfor\u001b[39;00m hook \u001b[39min\u001b[39;00m (\u001b[39m*\u001b[39m_global_forward_hooks\u001b[39m.\u001b[39mvalues(), \u001b[39m*\u001b[39m\u001b[39mself\u001b[39m\u001b[39m.\u001b[39m_forward_hooks\u001b[39m.\u001b[39mvalues()):\n",
      "\u001b[1;32mc:\\Users\\47472\\Documents\\Skole\\Hvl\\s6\\dat191\\Bachelor\\Code\\notebooks\\pyTorch\\CNN_Run.ipynb Cell 14\u001b[0m in \u001b[0;36mConvModel.forward\u001b[1;34m(self, x)\u001b[0m\n\u001b[0;32m     <a href='vscode-notebook-cell:/c%3A/Users/47472/Documents/Skole/Hvl/s6/dat191/Bachelor/Code/notebooks/pyTorch/CNN_Run.ipynb#X16sZmlsZQ%3D%3D?line=18'>19</a>\u001b[0m x \u001b[39m=\u001b[39m \u001b[39mself\u001b[39m\u001b[39m.\u001b[39mconv1(x)\n\u001b[0;32m     <a href='vscode-notebook-cell:/c%3A/Users/47472/Documents/Skole/Hvl/s6/dat191/Bachelor/Code/notebooks/pyTorch/CNN_Run.ipynb#X16sZmlsZQ%3D%3D?line=19'>20</a>\u001b[0m x \u001b[39m=\u001b[39m F\u001b[39m.\u001b[39mrelu(x) \u001b[39m#to activate function above\u001b[39;00m\n\u001b[1;32m---> <a href='vscode-notebook-cell:/c%3A/Users/47472/Documents/Skole/Hvl/s6/dat191/Bachelor/Code/notebooks/pyTorch/CNN_Run.ipynb#X16sZmlsZQ%3D%3D?line=21'>22</a>\u001b[0m x \u001b[39m=\u001b[39m F\u001b[39m.\u001b[39;49mmax_pool2d(x,\u001b[39m2\u001b[39;49m)\n\u001b[0;32m     <a href='vscode-notebook-cell:/c%3A/Users/47472/Documents/Skole/Hvl/s6/dat191/Bachelor/Code/notebooks/pyTorch/CNN_Run.ipynb#X16sZmlsZQ%3D%3D?line=23'>24</a>\u001b[0m x \u001b[39m=\u001b[39m \u001b[39mself\u001b[39m\u001b[39m.\u001b[39mconv2(x)\n\u001b[0;32m     <a href='vscode-notebook-cell:/c%3A/Users/47472/Documents/Skole/Hvl/s6/dat191/Bachelor/Code/notebooks/pyTorch/CNN_Run.ipynb#X16sZmlsZQ%3D%3D?line=24'>25</a>\u001b[0m x \u001b[39m=\u001b[39m F\u001b[39m.\u001b[39mrelu(x)\n",
      "File \u001b[1;32mc:\\Users\\47472\\AppData\\Local\\Programs\\Python\\Python39\\lib\\site-packages\\torch\\_jit_internal.py:423\u001b[0m, in \u001b[0;36mboolean_dispatch.<locals>.fn\u001b[1;34m(*args, **kwargs)\u001b[0m\n\u001b[0;32m    421\u001b[0m     \u001b[39mreturn\u001b[39;00m if_true(\u001b[39m*\u001b[39margs, \u001b[39m*\u001b[39m\u001b[39m*\u001b[39mkwargs)\n\u001b[0;32m    422\u001b[0m \u001b[39melse\u001b[39;00m:\n\u001b[1;32m--> 423\u001b[0m     \u001b[39mreturn\u001b[39;00m if_false(\u001b[39m*\u001b[39margs, \u001b[39m*\u001b[39m\u001b[39m*\u001b[39mkwargs)\n",
      "File \u001b[1;32mc:\\Users\\47472\\AppData\\Local\\Programs\\Python\\Python39\\lib\\site-packages\\torch\\nn\\functional.py:782\u001b[0m, in \u001b[0;36m_max_pool2d\u001b[1;34m(input, kernel_size, stride, padding, dilation, ceil_mode, return_indices)\u001b[0m\n\u001b[0;32m    780\u001b[0m \u001b[39mif\u001b[39;00m stride \u001b[39mis\u001b[39;00m \u001b[39mNone\u001b[39;00m:\n\u001b[0;32m    781\u001b[0m     stride \u001b[39m=\u001b[39m torch\u001b[39m.\u001b[39mjit\u001b[39m.\u001b[39mannotate(List[\u001b[39mint\u001b[39m], [])\n\u001b[1;32m--> 782\u001b[0m \u001b[39mreturn\u001b[39;00m torch\u001b[39m.\u001b[39;49mmax_pool2d(\u001b[39minput\u001b[39;49m, kernel_size, stride, padding, dilation, ceil_mode)\n",
      "\u001b[1;31mKeyboardInterrupt\u001b[0m: "
     ]
    }
   ],
   "source": [
    "model, y_pred, y_true = trainers.run(model, train, test, config)"
   ]
  },
  {
   "cell_type": "code",
   "execution_count": null,
   "metadata": {},
   "outputs": [
    {
     "data": {
      "text/plain": [
       "[Text(0, 0.5, 'Mikroskopiske svarte hull'), Text(0, 1.5, 'Sphaleroner')]"
      ]
     },
     "execution_count": 15,
     "metadata": {},
     "output_type": "execute_result"
    },
    {
     "data": {
      "image/png": "[encoded data removed]",
      "text/plain": [
       "<Figure size 432x288 with 1 Axes>"
      ]
     },
     "metadata": {
      "needs_background": "light"
     },
     "output_type": "display_data"
    }
   ],
   "source": [
    "matrix_confusion = confusion_matrix([x.data.cpu().numpy() for x in y_pred], [x.data.cpu().numpy() for x in y_true])\n",
    "ax= plt.subplot()\n",
    "sns.heatmap(matrix_confusion, square=True, annot=True, cmap='Blues', fmt='d', cbar=False)\n",
    "ax.set_xlabel('Predicted labels')\n",
    "ax.set_ylabel('True labels')\n",
    "ax.set_title('Confusion Matrix')\n",
    "ax.xaxis.set_ticklabels(['Mikroskopiske svarte hull', 'Sphaleroner'])\n",
    "ax.yaxis.set_ticklabels(['Mikroskopiske svarte hull', 'Sphaleroner'])"
   ]
  },
  {
   "cell_type": "code",
   "execution_count": null,
   "metadata": {},
   "outputs": [
    {
     "name": "stdout",
     "output_type": "stream",
     "text": [
      "output:  [-2.705345    0.21276155] labels:  0.0\n",
      "output:  [-2.0352545  1.7294186] labels:  0.0\n",
      "output:  [-4.1127443  0.8288828] labels:  1.0\n",
      "output:  [-7.425472  -1.2445332] labels:  0.0\n",
      "output:  [-3.6719944  0.6958717] labels:  1.0\n",
      "output:  [-5.2032137 -1.5690686] labels:  1.0\n",
      "output:  [-4.6915684 -0.9875883] labels:  1.0\n",
      "output:  [-8.535679   3.3037658] labels:  0.0\n",
      "output:  [-6.9965253 -3.0869436] labels:  0.0\n",
      "output:  [-5.2868834  1.0665358] labels:  1.0\n"
     ]
    }
   ],
   "source": [
    "#Eksempel på hva model gir som output mot labels\n",
    "testLoader = DataLoader(test, shuffle=True, batch_size=config['batch_size'])\n",
    "a = next(iter(testLoader))  \n",
    "output = model(a[0].permute(0,3,1,2).to(device))\n",
    "\n",
    "for i in range(10):\n",
    "    print(\"output: \", output[i].data.cpu().numpy(),\"labels: \", a[1][i].data.cpu().numpy())\n"
   ]
  },
  {
   "cell_type": "code",
   "execution_count": null,
   "metadata": {},
   "outputs": [
    {
     "name": "stdout",
     "output_type": "stream",
     "text": [
      "output:  1 labels:  1.0\n",
      "output:  1 labels:  1.0\n",
      "output:  1 labels:  1.0\n",
      "output:  1 labels:  0.0\n",
      "output:  1 labels:  0.0\n",
      "output:  1 labels:  1.0\n",
      "output:  1 labels:  0.0\n",
      "output:  1 labels:  1.0\n",
      "output:  1 labels:  0.0\n",
      "output:  1 labels:  0.0\n"
     ]
    }
   ],
   "source": [
    "#Eksempel på hva model gir som output mot labels\n",
    "testLoader = DataLoader(test, shuffle=True, batch_size=config['batch_size'])\n",
    "a = next(iter(testLoader))\n",
    "output = model(a[0].permute(0,3,1,2).to(device))\n",
    "\n",
    "list = torch.max(output.to(device), 1)[1] #Snakket om 16.03.2023, gir pred output\n",
    "\n",
    "for i in range(10):\n",
    "    print(\"output: \", list[i].data.cpu().numpy(),\"labels: \", a[1][i].data.cpu().numpy())\n",
    "\n",
    "\n"
   ]
  },
  {
   "cell_type": "code",
   "execution_count": null,
   "metadata": {},
   "outputs": [
    {
     "name": "stdout",
     "output_type": "stream",
     "text": [
      "tensor(3.0895, grad_fn=<NllLossBackward0>)\n",
      "tensor(4.6960, grad_fn=<AddBackward0>)\n",
      "tensor(0.1200, requires_grad=True)\n"
     ]
    }
   ],
   "source": [
    "#check loss\n",
    "\n",
    "zeroOne = lossFunctions.ZeroOneLoss()\n",
    "cross = lossFunctions.CrossEntropyLoss()\n",
    "\n",
    "critertion = nn.CrossEntropyLoss()\n",
    "\n",
    "\n",
    "print(critertion(output, a[1].long().to(device)))\n",
    "print(cross(output, a[1].long().to(device)))\n",
    "print(zeroOne(output, a[1].long()))"
   ]
  }
 ],
 "metadata": {
  "kernelspec": {
   "display_name": "Python 3",
   "language": "python",
   "name": "python3"
  },
  "language_info": {
   "codemirror_mode": {
    "name": "ipython",
    "version": 3
   },
   "file_extension": ".py",
   "mimetype": "text/x-python",
   "name": "python",
   "nbconvert_exporter": "python",
   "pygments_lexer": "ipython3",
   "version": "3.9.6"
  },
  "orig_nbformat": 4,
  "vscode": {
   "interpreter": {
    "hash": "e9fb61b4c72117f5d7b2c8d6242145ec5a71ca8cd00b47ff0a0694a5bc1f5f2f"
   }
  }
 },
 "nbformat": 4,
 "nbformat_minor": 2
}
