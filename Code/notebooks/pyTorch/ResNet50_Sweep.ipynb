{
 "cells": [
  {
   "cell_type": "code",
   "execution_count": 1,
   "metadata": {},
   "outputs": [],
   "source": [
    "import numpy as np\n",
    "import matplotlib.pyplot as plt\n",
    "# import pandas as pd\n",
    "\n",
    "#other libraries\n",
    "# from tqdm import tqdm\n",
    "# import time\n",
    "# import random\n",
    "import os\n",
    "import sys\n",
    "from pathlib import Path\n",
    "import h5py\n",
    "\n",
    "#torch specific\n",
    "import torch\n",
    "import torchvision as torchv\n",
    "import torch.nn as nn\n",
    "import torch.nn.functional as F\n",
    "import torch.optim as optim\n",
    "from torch.utils.data import DataLoader\n",
    "from torch.utils.data import Dataset\n",
    "from torch import Tensor\n",
    "from torch.utils import data\n",
    "\n",
    "from sklearn.model_selection import train_test_split\n",
    "import wandb\n",
    "\n",
    "from sklearn.metrics import confusion_matrix\n",
    "import pandas as pd\n",
    "import seaborn as sn"
   ]
  },
  {
   "cell_type": "code",
   "execution_count": 2,
   "metadata": {},
   "outputs": [],
   "source": [
    "module_path = str(Path.cwd().parents[0].parents[0] / \"src\")\n",
    "\n",
    "if module_path not in sys.path:\n",
    "    sys.path.append(module_path)\n",
    "\n",
    "from dataloader import *\n",
    "# from plotCreator import *\n",
    "\n",
    "data_path0 = str(Path.cwd().parents[0].parents[0] / \"data\" / \"bh\" / \"BH_n4_M10_res50_15000_events.h5\")\n",
    "data_path1 = str(Path.cwd().parents[0].parents[0] / \"data\" / \"sph\" / \"PP13-Sphaleron-THR9-FRZ15-NB0-NSUBPALL_res50_15000_events.h5\")"
   ]
  },
  {
   "cell_type": "code",
   "execution_count": 3,
   "metadata": {},
   "outputs": [],
   "source": [
    "bhArray = dataToArray(data_path0)\n",
    "sphArray = dataToArray(data_path1)"
   ]
  },
  {
   "cell_type": "code",
   "execution_count": 4,
   "metadata": {},
   "outputs": [
    {
     "name": "stdout",
     "output_type": "stream",
     "text": [
      "(15000, 50, 50, 3)\n",
      "(15000, 50, 50, 3)\n"
     ]
    }
   ],
   "source": [
    "print(bhArray.shape)\n",
    "print(sphArray.shape)"
   ]
  },
  {
   "cell_type": "code",
   "execution_count": 5,
   "metadata": {},
   "outputs": [],
   "source": [
    "dataArray = np.concatenate((bhArray,sphArray),axis=0)\n",
    "labelsArray = np.concatenate((np.zeros(np.shape(bhArray)[0]),np.ones(np.shape(sphArray)[0])),axis=0)"
   ]
  },
  {
   "cell_type": "code",
   "execution_count": 6,
   "metadata": {},
   "outputs": [
    {
     "name": "stdout",
     "output_type": "stream",
     "text": [
      "Running on the GPU\n"
     ]
    }
   ],
   "source": [
    "if torch.cuda.is_available():\n",
    "    device = torch.device(\"cuda\")\n",
    "    print(\"Running on the GPU\")\n",
    "else:\n",
    "    device = torch.device(\"cpu\")\n",
    "    print(\"Running on the CPU\")"
   ]
  },
  {
   "cell_type": "code",
   "execution_count": 7,
   "metadata": {},
   "outputs": [],
   "source": [
    "trainData, testData, trainLabels, testLabels = train_test_split(dataArray, labelsArray, random_state=42)"
   ]
  },
  {
   "cell_type": "code",
   "execution_count": 8,
   "metadata": {},
   "outputs": [],
   "source": [
    "trainData = torch.from_numpy(trainData)\n",
    "testData = torch.from_numpy(testData)\n",
    "trainLabels = torch.from_numpy(trainLabels)\n",
    "testLabels = torch.from_numpy(testLabels)"
   ]
  },
  {
   "cell_type": "code",
   "execution_count": 9,
   "metadata": {},
   "outputs": [],
   "source": [
    "train = torch.utils.data.TensorDataset(trainData, trainLabels)\n",
    "test = torch.utils.data.TensorDataset(testData, testLabels)"
   ]
  },
  {
   "cell_type": "code",
   "execution_count": 10,
   "metadata": {},
   "outputs": [],
   "source": [
    "class Bottleneck(nn.Module):\n",
    "    expansion = 4\n",
    "    def __init__(self, in_channels, out_channels, i_downsample=None, stride=1):\n",
    "        super(Bottleneck, self).__init__()\n",
    "        \n",
    "        self.conv1 = nn.Conv2d(in_channels, out_channels, kernel_size=1, stride=1, padding=0)\n",
    "        self.batch_norm1 = nn.BatchNorm2d(out_channels)\n",
    "        \n",
    "        self.conv2 = nn.Conv2d(out_channels, out_channels, kernel_size=3, stride=stride, padding=1)\n",
    "        self.batch_norm2 = nn.BatchNorm2d(out_channels)\n",
    "        \n",
    "        self.conv3 = nn.Conv2d(out_channels, out_channels*self.expansion, kernel_size=1, stride=1, padding=0)\n",
    "        self.batch_norm3 = nn.BatchNorm2d(out_channels*self.expansion)\n",
    "        \n",
    "        self.i_downsample = i_downsample\n",
    "        self.stride = stride\n",
    "        self.relu = nn.ReLU()\n",
    "        \n",
    "    def forward(self, x):\n",
    "        identity = x.clone()\n",
    "        x = self.relu(self.batch_norm1(self.conv1(x)))\n",
    "        \n",
    "        x = self.relu(self.batch_norm2(self.conv2(x)))\n",
    "        \n",
    "        x = self.conv3(x)\n",
    "        x = self.batch_norm3(x)\n",
    "        \n",
    "        #downsample if needed\n",
    "        if self.i_downsample is not None:\n",
    "            identity = self.i_downsample(identity)\n",
    "        #add identity\n",
    "        x+=identity\n",
    "        x=self.relu(x)\n",
    "        \n",
    "        return x"
   ]
  },
  {
   "cell_type": "code",
   "execution_count": 11,
   "metadata": {},
   "outputs": [],
   "source": [
    "class ResNet(nn.Module):\n",
    "    def __init__(self, ResBlock, layer_list, num_classes, num_channels=3):\n",
    "        super(ResNet, self).__init__()\n",
    "        self.in_channels = 64\n",
    "        \n",
    "        self.conv1 = nn.Conv2d(num_channels, 64, kernel_size=7, stride=2, padding=3, bias=False)\n",
    "        self.batch_norm1 = nn.BatchNorm2d(64)\n",
    "        self.relu = nn.ReLU()\n",
    "        self.max_pool = nn.MaxPool2d(kernel_size = 3, stride=2, padding=1)\n",
    "        \n",
    "        self.layer1 = self._make_layer(ResBlock, layer_list[0], planes=64)\n",
    "        self.layer2 = self._make_layer(ResBlock, layer_list[1], planes=128, stride=2)\n",
    "        self.layer3 = self._make_layer(ResBlock, layer_list[2], planes=256, stride=2)\n",
    "        self.layer4 = self._make_layer(ResBlock, layer_list[3], planes=512, stride=2)\n",
    "        \n",
    "        self.avgpool = nn.AdaptiveAvgPool2d((1,1))\n",
    "        self.fc = nn.Linear(512*ResBlock.expansion, num_classes)\n",
    "        \n",
    "    def forward(self, x):\n",
    "        x = self.relu(self.batch_norm1(self.conv1(x)))\n",
    "        x = self.max_pool(x)\n",
    "\n",
    "        x = self.layer1(x)\n",
    "        x = self.layer2(x)\n",
    "        x = self.layer3(x)\n",
    "        x = self.layer4(x)\n",
    "        \n",
    "        x = self.avgpool(x)\n",
    "        x = x.reshape(x.shape[0], -1)\n",
    "        x = self.fc(x)\n",
    "        \n",
    "        return x\n",
    "        \n",
    "    def _make_layer(self, ResBlock, blocks, planes, stride=1):\n",
    "        ii_downsample = None\n",
    "        layers = []\n",
    "        \n",
    "        if stride != 1 or self.in_channels != planes*ResBlock.expansion:\n",
    "            ii_downsample = nn.Sequential(\n",
    "                nn.Conv2d(self.in_channels, planes*ResBlock.expansion, kernel_size=1, stride=stride),\n",
    "                nn.BatchNorm2d(planes*ResBlock.expansion)\n",
    "            )\n",
    "            \n",
    "        layers.append(ResBlock(self.in_channels, planes, i_downsample=ii_downsample, stride=stride))\n",
    "        self.in_channels = planes*ResBlock.expansion\n",
    "        \n",
    "        for i in range(blocks-1):\n",
    "            layers.append(ResBlock(self.in_channels, planes))\n",
    "            \n",
    "        return nn.Sequential(*layers)"
   ]
  },
  {
   "cell_type": "code",
   "execution_count": 12,
   "metadata": {},
   "outputs": [
    {
     "name": "stdout",
     "output_type": "stream",
     "text": [
      "----------------------------------------------------------------\n",
      "        Layer (type)               Output Shape         Param #\n",
      "================================================================\n",
      "            Conv2d-1           [-1, 64, 25, 25]           9,408\n",
      "       BatchNorm2d-2           [-1, 64, 25, 25]             128\n",
      "              ReLU-3           [-1, 64, 25, 25]               0\n",
      "         MaxPool2d-4           [-1, 64, 13, 13]               0\n",
      "            Conv2d-5           [-1, 64, 13, 13]           4,160\n",
      "       BatchNorm2d-6           [-1, 64, 13, 13]             128\n",
      "              ReLU-7           [-1, 64, 13, 13]               0\n",
      "            Conv2d-8           [-1, 64, 13, 13]          36,928\n",
      "       BatchNorm2d-9           [-1, 64, 13, 13]             128\n",
      "             ReLU-10           [-1, 64, 13, 13]               0\n",
      "           Conv2d-11          [-1, 256, 13, 13]          16,640\n",
      "      BatchNorm2d-12          [-1, 256, 13, 13]             512\n",
      "           Conv2d-13          [-1, 256, 13, 13]          16,640\n",
      "      BatchNorm2d-14          [-1, 256, 13, 13]             512\n",
      "             ReLU-15          [-1, 256, 13, 13]               0\n",
      "       Bottleneck-16          [-1, 256, 13, 13]               0\n",
      "           Conv2d-17           [-1, 64, 13, 13]          16,448\n",
      "      BatchNorm2d-18           [-1, 64, 13, 13]             128\n",
      "             ReLU-19           [-1, 64, 13, 13]               0\n",
      "           Conv2d-20           [-1, 64, 13, 13]          36,928\n",
      "      BatchNorm2d-21           [-1, 64, 13, 13]             128\n",
      "             ReLU-22           [-1, 64, 13, 13]               0\n",
      "           Conv2d-23          [-1, 256, 13, 13]          16,640\n",
      "      BatchNorm2d-24          [-1, 256, 13, 13]             512\n",
      "             ReLU-25          [-1, 256, 13, 13]               0\n",
      "       Bottleneck-26          [-1, 256, 13, 13]               0\n",
      "           Conv2d-27           [-1, 64, 13, 13]          16,448\n",
      "      BatchNorm2d-28           [-1, 64, 13, 13]             128\n",
      "             ReLU-29           [-1, 64, 13, 13]               0\n",
      "           Conv2d-30           [-1, 64, 13, 13]          36,928\n",
      "      BatchNorm2d-31           [-1, 64, 13, 13]             128\n",
      "             ReLU-32           [-1, 64, 13, 13]               0\n",
      "           Conv2d-33          [-1, 256, 13, 13]          16,640\n",
      "      BatchNorm2d-34          [-1, 256, 13, 13]             512\n",
      "             ReLU-35          [-1, 256, 13, 13]               0\n",
      "       Bottleneck-36          [-1, 256, 13, 13]               0\n",
      "           Conv2d-37          [-1, 128, 13, 13]          32,896\n",
      "      BatchNorm2d-38          [-1, 128, 13, 13]             256\n",
      "             ReLU-39          [-1, 128, 13, 13]               0\n",
      "           Conv2d-40            [-1, 128, 7, 7]         147,584\n",
      "      BatchNorm2d-41            [-1, 128, 7, 7]             256\n",
      "             ReLU-42            [-1, 128, 7, 7]               0\n",
      "           Conv2d-43            [-1, 512, 7, 7]          66,048\n",
      "      BatchNorm2d-44            [-1, 512, 7, 7]           1,024\n",
      "           Conv2d-45            [-1, 512, 7, 7]         131,584\n",
      "      BatchNorm2d-46            [-1, 512, 7, 7]           1,024\n",
      "             ReLU-47            [-1, 512, 7, 7]               0\n",
      "       Bottleneck-48            [-1, 512, 7, 7]               0\n",
      "           Conv2d-49            [-1, 128, 7, 7]          65,664\n",
      "      BatchNorm2d-50            [-1, 128, 7, 7]             256\n",
      "             ReLU-51            [-1, 128, 7, 7]               0\n",
      "           Conv2d-52            [-1, 128, 7, 7]         147,584\n",
      "      BatchNorm2d-53            [-1, 128, 7, 7]             256\n",
      "             ReLU-54            [-1, 128, 7, 7]               0\n",
      "           Conv2d-55            [-1, 512, 7, 7]          66,048\n",
      "      BatchNorm2d-56            [-1, 512, 7, 7]           1,024\n",
      "             ReLU-57            [-1, 512, 7, 7]               0\n",
      "       Bottleneck-58            [-1, 512, 7, 7]               0\n",
      "           Conv2d-59            [-1, 128, 7, 7]          65,664\n",
      "      BatchNorm2d-60            [-1, 128, 7, 7]             256\n",
      "             ReLU-61            [-1, 128, 7, 7]               0\n",
      "           Conv2d-62            [-1, 128, 7, 7]         147,584\n",
      "      BatchNorm2d-63            [-1, 128, 7, 7]             256\n",
      "             ReLU-64            [-1, 128, 7, 7]               0\n",
      "           Conv2d-65            [-1, 512, 7, 7]          66,048\n",
      "      BatchNorm2d-66            [-1, 512, 7, 7]           1,024\n",
      "             ReLU-67            [-1, 512, 7, 7]               0\n",
      "       Bottleneck-68            [-1, 512, 7, 7]               0\n",
      "           Conv2d-69            [-1, 128, 7, 7]          65,664\n",
      "      BatchNorm2d-70            [-1, 128, 7, 7]             256\n",
      "             ReLU-71            [-1, 128, 7, 7]               0\n",
      "           Conv2d-72            [-1, 128, 7, 7]         147,584\n",
      "      BatchNorm2d-73            [-1, 128, 7, 7]             256\n",
      "             ReLU-74            [-1, 128, 7, 7]               0\n",
      "           Conv2d-75            [-1, 512, 7, 7]          66,048\n",
      "      BatchNorm2d-76            [-1, 512, 7, 7]           1,024\n",
      "             ReLU-77            [-1, 512, 7, 7]               0\n",
      "       Bottleneck-78            [-1, 512, 7, 7]               0\n",
      "           Conv2d-79            [-1, 256, 7, 7]         131,328\n",
      "      BatchNorm2d-80            [-1, 256, 7, 7]             512\n",
      "             ReLU-81            [-1, 256, 7, 7]               0\n",
      "           Conv2d-82            [-1, 256, 4, 4]         590,080\n",
      "      BatchNorm2d-83            [-1, 256, 4, 4]             512\n",
      "             ReLU-84            [-1, 256, 4, 4]               0\n",
      "           Conv2d-85           [-1, 1024, 4, 4]         263,168\n",
      "      BatchNorm2d-86           [-1, 1024, 4, 4]           2,048\n",
      "           Conv2d-87           [-1, 1024, 4, 4]         525,312\n",
      "      BatchNorm2d-88           [-1, 1024, 4, 4]           2,048\n",
      "             ReLU-89           [-1, 1024, 4, 4]               0\n",
      "       Bottleneck-90           [-1, 1024, 4, 4]               0\n",
      "           Conv2d-91            [-1, 256, 4, 4]         262,400\n",
      "      BatchNorm2d-92            [-1, 256, 4, 4]             512\n",
      "             ReLU-93            [-1, 256, 4, 4]               0\n",
      "           Conv2d-94            [-1, 256, 4, 4]         590,080\n",
      "      BatchNorm2d-95            [-1, 256, 4, 4]             512\n",
      "             ReLU-96            [-1, 256, 4, 4]               0\n",
      "           Conv2d-97           [-1, 1024, 4, 4]         263,168\n",
      "      BatchNorm2d-98           [-1, 1024, 4, 4]           2,048\n",
      "             ReLU-99           [-1, 1024, 4, 4]               0\n",
      "      Bottleneck-100           [-1, 1024, 4, 4]               0\n",
      "          Conv2d-101            [-1, 256, 4, 4]         262,400\n",
      "     BatchNorm2d-102            [-1, 256, 4, 4]             512\n",
      "            ReLU-103            [-1, 256, 4, 4]               0\n",
      "          Conv2d-104            [-1, 256, 4, 4]         590,080\n",
      "     BatchNorm2d-105            [-1, 256, 4, 4]             512\n",
      "            ReLU-106            [-1, 256, 4, 4]               0\n",
      "          Conv2d-107           [-1, 1024, 4, 4]         263,168\n",
      "     BatchNorm2d-108           [-1, 1024, 4, 4]           2,048\n",
      "            ReLU-109           [-1, 1024, 4, 4]               0\n",
      "      Bottleneck-110           [-1, 1024, 4, 4]               0\n",
      "          Conv2d-111            [-1, 256, 4, 4]         262,400\n",
      "     BatchNorm2d-112            [-1, 256, 4, 4]             512\n",
      "            ReLU-113            [-1, 256, 4, 4]               0\n",
      "          Conv2d-114            [-1, 256, 4, 4]         590,080\n",
      "     BatchNorm2d-115            [-1, 256, 4, 4]             512\n",
      "            ReLU-116            [-1, 256, 4, 4]               0\n",
      "          Conv2d-117           [-1, 1024, 4, 4]         263,168\n",
      "     BatchNorm2d-118           [-1, 1024, 4, 4]           2,048\n",
      "            ReLU-119           [-1, 1024, 4, 4]               0\n",
      "      Bottleneck-120           [-1, 1024, 4, 4]               0\n",
      "          Conv2d-121            [-1, 256, 4, 4]         262,400\n",
      "     BatchNorm2d-122            [-1, 256, 4, 4]             512\n",
      "            ReLU-123            [-1, 256, 4, 4]               0\n",
      "          Conv2d-124            [-1, 256, 4, 4]         590,080\n",
      "     BatchNorm2d-125            [-1, 256, 4, 4]             512\n",
      "            ReLU-126            [-1, 256, 4, 4]               0\n",
      "          Conv2d-127           [-1, 1024, 4, 4]         263,168\n",
      "     BatchNorm2d-128           [-1, 1024, 4, 4]           2,048\n",
      "            ReLU-129           [-1, 1024, 4, 4]               0\n",
      "      Bottleneck-130           [-1, 1024, 4, 4]               0\n",
      "          Conv2d-131            [-1, 256, 4, 4]         262,400\n",
      "     BatchNorm2d-132            [-1, 256, 4, 4]             512\n",
      "            ReLU-133            [-1, 256, 4, 4]               0\n",
      "          Conv2d-134            [-1, 256, 4, 4]         590,080\n",
      "     BatchNorm2d-135            [-1, 256, 4, 4]             512\n",
      "            ReLU-136            [-1, 256, 4, 4]               0\n",
      "          Conv2d-137           [-1, 1024, 4, 4]         263,168\n",
      "     BatchNorm2d-138           [-1, 1024, 4, 4]           2,048\n",
      "            ReLU-139           [-1, 1024, 4, 4]               0\n",
      "      Bottleneck-140           [-1, 1024, 4, 4]               0\n",
      "          Conv2d-141            [-1, 512, 4, 4]         524,800\n",
      "     BatchNorm2d-142            [-1, 512, 4, 4]           1,024\n",
      "            ReLU-143            [-1, 512, 4, 4]               0\n",
      "          Conv2d-144            [-1, 512, 2, 2]       2,359,808\n",
      "     BatchNorm2d-145            [-1, 512, 2, 2]           1,024\n",
      "            ReLU-146            [-1, 512, 2, 2]               0\n",
      "          Conv2d-147           [-1, 2048, 2, 2]       1,050,624\n",
      "     BatchNorm2d-148           [-1, 2048, 2, 2]           4,096\n",
      "          Conv2d-149           [-1, 2048, 2, 2]       2,099,200\n",
      "     BatchNorm2d-150           [-1, 2048, 2, 2]           4,096\n",
      "            ReLU-151           [-1, 2048, 2, 2]               0\n",
      "      Bottleneck-152           [-1, 2048, 2, 2]               0\n",
      "          Conv2d-153            [-1, 512, 2, 2]       1,049,088\n",
      "     BatchNorm2d-154            [-1, 512, 2, 2]           1,024\n",
      "            ReLU-155            [-1, 512, 2, 2]               0\n",
      "          Conv2d-156            [-1, 512, 2, 2]       2,359,808\n",
      "     BatchNorm2d-157            [-1, 512, 2, 2]           1,024\n",
      "            ReLU-158            [-1, 512, 2, 2]               0\n",
      "          Conv2d-159           [-1, 2048, 2, 2]       1,050,624\n",
      "     BatchNorm2d-160           [-1, 2048, 2, 2]           4,096\n",
      "            ReLU-161           [-1, 2048, 2, 2]               0\n",
      "      Bottleneck-162           [-1, 2048, 2, 2]               0\n",
      "          Conv2d-163            [-1, 512, 2, 2]       1,049,088\n",
      "     BatchNorm2d-164            [-1, 512, 2, 2]           1,024\n",
      "            ReLU-165            [-1, 512, 2, 2]               0\n",
      "          Conv2d-166            [-1, 512, 2, 2]       2,359,808\n",
      "     BatchNorm2d-167            [-1, 512, 2, 2]           1,024\n",
      "            ReLU-168            [-1, 512, 2, 2]               0\n",
      "          Conv2d-169           [-1, 2048, 2, 2]       1,050,624\n",
      "     BatchNorm2d-170           [-1, 2048, 2, 2]           4,096\n",
      "            ReLU-171           [-1, 2048, 2, 2]               0\n",
      "      Bottleneck-172           [-1, 2048, 2, 2]               0\n",
      "AdaptiveAvgPool2d-173           [-1, 2048, 1, 1]               0\n",
      "          Linear-174                    [-1, 2]           4,098\n",
      "================================================================\n",
      "Total params: 23,538,626\n",
      "Trainable params: 23,538,626\n",
      "Non-trainable params: 0\n",
      "----------------------------------------------------------------\n",
      "Input size (MB): 0.03\n",
      "Forward/backward pass size (MB): 17.93\n",
      "Params size (MB): 89.79\n",
      "Estimated Total Size (MB): 107.75\n",
      "----------------------------------------------------------------\n"
     ]
    }
   ],
   "source": [
    "from torchsummary import summary\n",
    "\n",
    "resnet50 = ResNet(Bottleneck, [3, 4, 6, 3], 2, 3).to(device)\n",
    "summary(resnet50, (3, 50, 50))"
   ]
  },
  {
   "cell_type": "code",
   "execution_count": 13,
   "metadata": {},
   "outputs": [],
   "source": [
    "def trainFunction(config=None):\n",
    "\n",
    "    #init wandb\n",
    "    with wandb.init(project=\"PyTorch\", name=\"resnet50model\", config=config):\n",
    "        config = wandb.config\n",
    "\n",
    "        #initialize variables\n",
    "        model = ResNet(Bottleneck, [3, 4, 6, 3], 2, 3).to(device)\n",
    "        criterion = nn.CrossEntropyLoss()\n",
    "        optimizer = torch.optim.Adam(model.parameters(), lr=config.learning_rate)\n",
    "        #initialize variables end\n",
    "\n",
    "\n",
    "        #data\n",
    "        trainLoader = DataLoader(train, shuffle=True, batch_size=config.batch_size)\n",
    "        testLoader = DataLoader(test, shuffle=True, batch_size=config.batch_size)\n",
    "        #data end\n",
    "\n",
    "\n",
    "        wandb.watch(model, criterion, log='all')\n",
    "\n",
    "        \n",
    "        #START\n",
    "        for epoch in range(50):\n",
    "\n",
    "            #training variables\n",
    "            trainRunningLoss = 0.0\n",
    "            correct = 0\n",
    "            y_pred = []\n",
    "            y_true = []\n",
    "            #training loop\n",
    "            model.train()\n",
    "            for i, data in enumerate(trainLoader):\n",
    "                inputs, labels = data\n",
    "                inputs, labels = inputs.to(device), labels.to(device)\n",
    "\n",
    "                optimizer.zero_grad()\n",
    "                output = model(inputs.permute(0,3,1,2))\n",
    "                output1 = (torch.max(output.to(device), 1)[1])\n",
    "                y_pred.extend(output1) # Save Prediction\n",
    "                \n",
    "                y_true.extend(labels) # Save Truth\n",
    "                loss = criterion(output, labels.type(torch.LongTensor).to(device))\n",
    "                loss.backward()\n",
    "                optimizer.step()\n",
    "                \n",
    "                trainRunningLoss += loss.item() * inputs.size(0)\n",
    "            #training loop end\n",
    "            correct = (torch.FloatTensor(y_pred) == torch.FloatTensor(y_true)).sum()\n",
    "            trainAccuracy = correct / len(y_true)\n",
    "            #training variables end\n",
    "\n",
    "            #test variables\n",
    "            testRunningLoss = 0.0\n",
    "            y_pred = []\n",
    "            y_true = []\n",
    "            #test loop\n",
    "            model.eval()\n",
    "            for j, data in enumerate(testLoader):\n",
    "                inputs, labels = data\n",
    "                inputs, labels = inputs.to(device), labels.to(device)\n",
    "                output = model(inputs.permute(0,3,1,2))# Feed Network\n",
    "\n",
    "                output1 = (torch.max(output.to(device), 1)[1])\n",
    "                y_pred.extend(output1) # Save Prediction\n",
    "                \n",
    "                y_true.extend(labels) # Save Truth\n",
    "                loss = criterion(output, labels.type(torch.LongTensor).to(device))\n",
    "                testRunningLoss += loss.item() * inputs.size(0)\n",
    "            #test loop end\n",
    "\n",
    "            correct = (torch.FloatTensor(y_pred) == torch.FloatTensor(y_true)).sum()\n",
    "            testAccuracy = correct / len(y_true)\n",
    "            testRunningLoss = testRunningLoss/len(bhArray)\n",
    "            trainRunningLoss = trainRunningLoss/len(bhArray)\n",
    "            #test variables end\n",
    "\n",
    "            #wandb log\n",
    "            wandb.log({\"Train epoch_loss\":trainRunningLoss, \"Test epoch_loss\": testRunningLoss, \"Train accuracy\": trainAccuracy,\"Test accuracy\": testAccuracy})\n",
    "\n",
    "        #END\n"
   ]
  },
  {
   "cell_type": "code",
   "execution_count": 14,
   "metadata": {},
   "outputs": [
    {
     "name": "stderr",
     "output_type": "stream",
     "text": [
      "Failed to detect the name of this notebook, you can set it manually with the WANDB_NOTEBOOK_NAME environment variable to enable code saving.\n"
     ]
    },
    {
     "name": "stdout",
     "output_type": "stream",
     "text": [
      "Create sweep with ID: hv4v9itu\n",
      "Sweep URL: https://wandb.ai/g13hvl2023/test/sweeps/hv4v9itu\n"
     ]
    }
   ],
   "source": [
    "sweep_configuration = {\n",
    "    'method': 'grid',\n",
    "    'name': 'sweep',\n",
    "    'metric': {\n",
    "        'goal': 'maximize', \n",
    "        'name': 'Test accuracy'\n",
    "        },\n",
    "    'parameters': {\n",
    "        'batch_size': {'values': [50]},\n",
    "        'learning_rate': {'values': [0.01,0.02]}\n",
    "     }\n",
    "}\n",
    "sweep_id = wandb.sweep(sweep=sweep_configuration, project=\"test\")\n"
   ]
  },
  {
   "cell_type": "code",
   "execution_count": 15,
   "metadata": {},
   "outputs": [
    {
     "name": "stderr",
     "output_type": "stream",
     "text": [
      "\u001b[34m\u001b[1mwandb\u001b[0m: Agent Starting Run: vd7ap2d4 with config:\n",
      "\u001b[34m\u001b[1mwandb\u001b[0m: \tbatch_size: 50\n",
      "\u001b[34m\u001b[1mwandb\u001b[0m: \tlearning_rate: 0.01\n",
      "Failed to detect the name of this notebook, you can set it manually with the WANDB_NOTEBOOK_NAME environment variable to enable code saving.\n",
      "\u001b[34m\u001b[1mwandb\u001b[0m: Currently logged in as: \u001b[33m591291\u001b[0m (\u001b[33mg13hvl2023\u001b[0m). Use \u001b[1m`wandb login --relogin`\u001b[0m to force relogin\n",
      "\u001b[34m\u001b[1mwandb\u001b[0m: \u001b[33mWARNING\u001b[0m Ignored wandb.init() arg project when running a sweep.\n"
     ]
    },
    {
     "data": {
      "text/html": [
       "Tracking run with wandb version 0.13.10"
      ],
      "text/plain": [
       "<IPython.core.display.HTML object>"
      ]
     },
     "metadata": {},
     "output_type": "display_data"
    },
    {
     "data": {
      "text/html": [
       "Run data is saved locally in <code>c:\\Users\\student\\Desktop\\Daniel og Sayna\\Bachelor\\Code\\notebooks\\pyTorch\\wandb\\run-20230301_112510-vd7ap2d4</code>"
      ],
      "text/plain": [
       "<IPython.core.display.HTML object>"
      ]
     },
     "metadata": {},
     "output_type": "display_data"
    },
    {
     "data": {
      "text/html": [
       "Syncing run <strong><a href='https://wandb.ai/g13hvl2023/test/runs/vd7ap2d4' target=\"_blank\">resnet50model</a></strong> to <a href='https://wandb.ai/g13hvl2023/test' target=\"_blank\">Weights & Biases</a> (<a href='https://wandb.me/run' target=\"_blank\">docs</a>)<br/>Sweep page: <a href='https://wandb.ai/g13hvl2023/test/sweeps/hv4v9itu' target=\"_blank\">https://wandb.ai/g13hvl2023/test/sweeps/hv4v9itu</a>"
      ],
      "text/plain": [
       "<IPython.core.display.HTML object>"
      ]
     },
     "metadata": {},
     "output_type": "display_data"
    },
    {
     "data": {
      "text/html": [
       " View project at <a href='https://wandb.ai/g13hvl2023/test' target=\"_blank\">https://wandb.ai/g13hvl2023/test</a>"
      ],
      "text/plain": [
       "<IPython.core.display.HTML object>"
      ]
     },
     "metadata": {},
     "output_type": "display_data"
    },
    {
     "data": {
      "text/html": [
       " View sweep at <a href='https://wandb.ai/g13hvl2023/test/sweeps/hv4v9itu' target=\"_blank\">https://wandb.ai/g13hvl2023/test/sweeps/hv4v9itu</a>"
      ],
      "text/plain": [
       "<IPython.core.display.HTML object>"
      ]
     },
     "metadata": {},
     "output_type": "display_data"
    },
    {
     "data": {
      "text/html": [
       " View run at <a href='https://wandb.ai/g13hvl2023/test/runs/vd7ap2d4' target=\"_blank\">https://wandb.ai/g13hvl2023/test/runs/vd7ap2d4</a>"
      ],
      "text/plain": [
       "<IPython.core.display.HTML object>"
      ]
     },
     "metadata": {},
     "output_type": "display_data"
    },
    {
     "data": {
      "text/html": [
       "Waiting for W&B process to finish... <strong style=\"color:green\">(success).</strong>"
      ],
      "text/plain": [
       "<IPython.core.display.HTML object>"
      ]
     },
     "metadata": {},
     "output_type": "display_data"
    },
    {
     "data": {
      "application/vnd.jupyter.widget-view+json": {
       "model_id": "db5f6c2c179548dfaffe8ccb064d0aaa",
       "version_major": 2,
       "version_minor": 0
      },
      "text/plain": [
       "VBox(children=(Label(value='0.001 MB of 0.769 MB uploaded (0.000 MB deduped)\\r'), FloatProgress(value=0.001670…"
      ]
     },
     "metadata": {},
     "output_type": "display_data"
    },
    {
     "data": {
      "text/html": [
       "<style>\n",
       "    table.wandb td:nth-child(1) { padding: 0 10px; text-align: left ; width: auto;} td:nth-child(2) {text-align: left ; width: 100%}\n",
       "    .wandb-row { display: flex; flex-direction: row; flex-wrap: wrap; justify-content: flex-start; width: 100% }\n",
       "    .wandb-col { display: flex; flex-direction: column; flex-basis: 100%; flex: 1; padding: 10px; }\n",
       "    </style>\n",
       "<div class=\"wandb-row\"><div class=\"wandb-col\"><h3>Run history:</h3><br/><table class=\"wandb\"><tr><td>Test accuracy</td><td>██▁▇███████▇██████▇███▇▇█▇█▇█▇██▇█▇█▇███</td></tr><tr><td>Test epoch_loss</td><td>▁▁█▂▁▁▁▁▁▁▁▂▁▁▁▁▁▁▂▁▁▁▂▃▁▂▂▂▂▄▂▂▃▂▂▃▄▃▂▃</td></tr><tr><td>Train accuracy</td><td>▁▄▄▃▄▅▅▅▅▅▅▅▅▅▅▅▆▆▆▆▆▆▆▆▇▇▇▇▇▇██▇███████</td></tr><tr><td>Train epoch_loss</td><td>█▄▆▅▄▄▄▄▃▃▃▃▃▄▄▃▃▃▃▃▂▂▂▂▂▂▂▂▂▁▁▁▂▁▁▁▁▁▁▁</td></tr></table><br/></div><div class=\"wandb-col\"><h3>Run summary:</h3><br/><table class=\"wandb\"><tr><td>Test accuracy</td><td>0.90053</td></tr><tr><td>Test epoch_loss</td><td>0.30408</td></tr><tr><td>Train accuracy</td><td>0.98893</td></tr><tr><td>Train epoch_loss</td><td>0.04688</td></tr></table><br/></div></div>"
      ],
      "text/plain": [
       "<IPython.core.display.HTML object>"
      ]
     },
     "metadata": {},
     "output_type": "display_data"
    },
    {
     "data": {
      "text/html": [
       " View run <strong style=\"color:#cdcd00\">resnet50model</strong> at: <a href='https://wandb.ai/g13hvl2023/test/runs/vd7ap2d4' target=\"_blank\">https://wandb.ai/g13hvl2023/test/runs/vd7ap2d4</a><br/>Synced 4 W&B file(s), 0 media file(s), 0 artifact file(s) and 0 other file(s)"
      ],
      "text/plain": [
       "<IPython.core.display.HTML object>"
      ]
     },
     "metadata": {},
     "output_type": "display_data"
    },
    {
     "data": {
      "text/html": [
       "Find logs at: <code>.\\wandb\\run-20230301_112510-vd7ap2d4\\logs</code>"
      ],
      "text/plain": [
       "<IPython.core.display.HTML object>"
      ]
     },
     "metadata": {},
     "output_type": "display_data"
    },
    {
     "name": "stderr",
     "output_type": "stream",
     "text": [
      "\u001b[34m\u001b[1mwandb\u001b[0m: Agent Starting Run: 1h55589h with config:\n",
      "\u001b[34m\u001b[1mwandb\u001b[0m: \tbatch_size: 50\n",
      "\u001b[34m\u001b[1mwandb\u001b[0m: \tlearning_rate: 0.02\n",
      "Failed to detect the name of this notebook, you can set it manually with the WANDB_NOTEBOOK_NAME environment variable to enable code saving.\n",
      "\u001b[34m\u001b[1mwandb\u001b[0m: \u001b[33mWARNING\u001b[0m Ignored wandb.init() arg project when running a sweep.\n"
     ]
    },
    {
     "data": {
      "text/html": [
       "Tracking run with wandb version 0.13.10"
      ],
      "text/plain": [
       "<IPython.core.display.HTML object>"
      ]
     },
     "metadata": {},
     "output_type": "display_data"
    },
    {
     "data": {
      "text/html": [
       "Run data is saved locally in <code>c:\\Users\\student\\Desktop\\Daniel og Sayna\\Bachelor\\Code\\notebooks\\pyTorch\\wandb\\run-20230301_124251-1h55589h</code>"
      ],
      "text/plain": [
       "<IPython.core.display.HTML object>"
      ]
     },
     "metadata": {},
     "output_type": "display_data"
    },
    {
     "data": {
      "text/html": [
       "Syncing run <strong><a href='https://wandb.ai/g13hvl2023/test/runs/1h55589h' target=\"_blank\">resnet50model</a></strong> to <a href='https://wandb.ai/g13hvl2023/test' target=\"_blank\">Weights & Biases</a> (<a href='https://wandb.me/run' target=\"_blank\">docs</a>)<br/>Sweep page: <a href='https://wandb.ai/g13hvl2023/test/sweeps/hv4v9itu' target=\"_blank\">https://wandb.ai/g13hvl2023/test/sweeps/hv4v9itu</a>"
      ],
      "text/plain": [
       "<IPython.core.display.HTML object>"
      ]
     },
     "metadata": {},
     "output_type": "display_data"
    },
    {
     "data": {
      "text/html": [
       " View project at <a href='https://wandb.ai/g13hvl2023/test' target=\"_blank\">https://wandb.ai/g13hvl2023/test</a>"
      ],
      "text/plain": [
       "<IPython.core.display.HTML object>"
      ]
     },
     "metadata": {},
     "output_type": "display_data"
    },
    {
     "data": {
      "text/html": [
       " View sweep at <a href='https://wandb.ai/g13hvl2023/test/sweeps/hv4v9itu' target=\"_blank\">https://wandb.ai/g13hvl2023/test/sweeps/hv4v9itu</a>"
      ],
      "text/plain": [
       "<IPython.core.display.HTML object>"
      ]
     },
     "metadata": {},
     "output_type": "display_data"
    },
    {
     "data": {
      "text/html": [
       " View run at <a href='https://wandb.ai/g13hvl2023/test/runs/1h55589h' target=\"_blank\">https://wandb.ai/g13hvl2023/test/runs/1h55589h</a>"
      ],
      "text/plain": [
       "<IPython.core.display.HTML object>"
      ]
     },
     "metadata": {},
     "output_type": "display_data"
    },
    {
     "data": {
      "text/html": [
       "Waiting for W&B process to finish... <strong style=\"color:green\">(success).</strong>"
      ],
      "text/plain": [
       "<IPython.core.display.HTML object>"
      ]
     },
     "metadata": {},
     "output_type": "display_data"
    },
    {
     "data": {
      "application/vnd.jupyter.widget-view+json": {
       "model_id": "9a8f59b6bd084bcbb97782c8816681c5",
       "version_major": 2,
       "version_minor": 0
      },
      "text/plain": [
       "VBox(children=(Label(value='0.001 MB of 0.770 MB uploaded (0.000 MB deduped)\\r'), FloatProgress(value=0.001669…"
      ]
     },
     "metadata": {},
     "output_type": "display_data"
    },
    {
     "data": {
      "text/html": [
       "<style>\n",
       "    table.wandb td:nth-child(1) { padding: 0 10px; text-align: left ; width: auto;} td:nth-child(2) {text-align: left ; width: 100%}\n",
       "    .wandb-row { display: flex; flex-direction: row; flex-wrap: wrap; justify-content: flex-start; width: 100% }\n",
       "    .wandb-col { display: flex; flex-direction: column; flex-basis: 100%; flex: 1; padding: 10px; }\n",
       "    </style>\n",
       "<div class=\"wandb-row\"><div class=\"wandb-col\"><h3>Run history:</h3><br/><table class=\"wandb\"><tr><td>Test accuracy</td><td>▆▇█▆█▆████▅▇▆▇▇███▇█████▆▅▇▁▆▇▇▇███▇▇██▆</td></tr><tr><td>Test epoch_loss</td><td>▁▁▁▁▁▁▁▁▁▁▁▁▁▁▁▁▁▁▁▁▁▁▁▁▁▁▁█▁▁▁▁▁▁▁▁▁▁▁▁</td></tr><tr><td>Train accuracy</td><td>▁▅▆▆▇▇▇▇▇▇▇▇▄▆▆▆▇▇▇▇▇▇▇████▇▄▅▆▆▇▇▇▇████</td></tr><tr><td>Train epoch_loss</td><td>█▃▂▂▂▂▂▂▁▁▁▁▃▂▂▂▂▂▂▁▂▁▁▁▁▁▁▃▃▂▂▂▂▁▁▁▁▁▁▁</td></tr></table><br/></div><div class=\"wandb-col\"><h3>Run summary:</h3><br/><table class=\"wandb\"><tr><td>Test accuracy</td><td>0.8716</td></tr><tr><td>Test epoch_loss</td><td>0.19527</td></tr><tr><td>Train accuracy</td><td>0.94324</td></tr><tr><td>Train epoch_loss</td><td>0.21333</td></tr></table><br/></div></div>"
      ],
      "text/plain": [
       "<IPython.core.display.HTML object>"
      ]
     },
     "metadata": {},
     "output_type": "display_data"
    },
    {
     "data": {
      "text/html": [
       " View run <strong style=\"color:#cdcd00\">resnet50model</strong> at: <a href='https://wandb.ai/g13hvl2023/test/runs/1h55589h' target=\"_blank\">https://wandb.ai/g13hvl2023/test/runs/1h55589h</a><br/>Synced 4 W&B file(s), 0 media file(s), 0 artifact file(s) and 0 other file(s)"
      ],
      "text/plain": [
       "<IPython.core.display.HTML object>"
      ]
     },
     "metadata": {},
     "output_type": "display_data"
    },
    {
     "data": {
      "text/html": [
       "Find logs at: <code>.\\wandb\\run-20230301_124251-1h55589h\\logs</code>"
      ],
      "text/plain": [
       "<IPython.core.display.HTML object>"
      ]
     },
     "metadata": {},
     "output_type": "display_data"
    },
    {
     "name": "stderr",
     "output_type": "stream",
     "text": [
      "\u001b[34m\u001b[1mwandb\u001b[0m: Sweep Agent: Waiting for job.\n",
      "\u001b[34m\u001b[1mwandb\u001b[0m: Sweep Agent: Exiting.\n"
     ]
    }
   ],
   "source": [
    "wandb.agent(sweep_id, function=trainFunction, count=10)"
   ]
  }
 ],
 "metadata": {
  "kernelspec": {
   "display_name": "DAT191-gpu",
   "language": "python",
   "name": "python3"
  },
  "language_info": {
   "codemirror_mode": {
    "name": "ipython",
    "version": 3
   },
   "file_extension": ".py",
   "mimetype": "text/x-python",
   "name": "python",
   "nbconvert_exporter": "python",
   "pygments_lexer": "ipython3",
   "version": "3.9.16"
  },
  "orig_nbformat": 4,
  "vscode": {
   "interpreter": {
    "hash": "75a7a58f3f8071ece7c4de206f0eb318832e927c0f5cee080ee8565c60d715a0"
   }
  }
 },
 "nbformat": 4,
 "nbformat_minor": 2
}
