{
 "cells": [
  {
   "cell_type": "code",
   "execution_count": 1,
   "metadata": {},
   "outputs": [],
   "source": [
    "#Bruker ResNet arkitektur kombinert med PyTorch "
   ]
  },
  {
   "cell_type": "code",
   "execution_count": 2,
   "metadata": {},
   "outputs": [
    {
     "name": "stderr",
     "output_type": "stream",
     "text": [
      "c:\\Users\\47472\\AppData\\Local\\Programs\\Python\\Python39\\lib\\site-packages\\tqdm\\auto.py:22: TqdmWarning: IProgress not found. Please update jupyter and ipywidgets. See https://ipywidgets.readthedocs.io/en/stable/user_install.html\n",
      "  from .autonotebook import tqdm as notebook_tqdm\n"
     ]
    }
   ],
   "source": [
    "import numpy as np\n",
    "import matplotlib.pyplot as plt\n",
    "# import pandas as pd\n",
    "\n",
    "#other libraries\n",
    "# from tqdm import tqdm\n",
    "# import time\n",
    "# import random\n",
    "import os\n",
    "import sys\n",
    "from pathlib import Path\n",
    "import h5py\n",
    "\n",
    "#torch specific\n",
    "import torch\n",
    "import torchvision as torchv\n",
    "import torch.nn as nn\n",
    "import torch.nn.functional as F\n",
    "import torch.optim as optim\n",
    "from torch.utils.data import DataLoader\n",
    "from torch.utils.data import Dataset\n",
    "from torch import Tensor\n",
    "from torch.utils import data\n",
    "\n",
    "from sklearn.model_selection import train_test_split\n",
    "import wandb\n",
    "\n",
    "from sklearn.metrics import confusion_matrix\n",
    "import pandas as pd\n",
    "import seaborn as sn"
   ]
  },
  {
   "cell_type": "code",
   "execution_count": 3,
   "metadata": {},
   "outputs": [],
   "source": [
    "module_path = str(Path.cwd().parents[0].parents[0] / \"src\")\n",
    "\n",
    "if module_path not in sys.path:\n",
    "    sys.path.append(module_path)\n",
    "\n",
    "from dataloader import *\n",
    "# from plotCreator import *\n",
    "\n",
    "data_path0 = str(Path.cwd().parents[0].parents[0] / \"data\" / \"bh\" / \"BH_n4_M10_res50_15000_events.h5\")\n",
    "data_path1 = str(Path.cwd().parents[0].parents[0] / \"data\" / \"sph\" / \"PP13-Sphaleron-THR9-FRZ15-NB0-NSUBPALL_res50_15000_events.h5\")"
   ]
  },
  {
   "cell_type": "code",
   "execution_count": 4,
   "metadata": {},
   "outputs": [],
   "source": [
    "bhArray = dataToArray(data_path0)\n",
    "sphArray = dataToArray(data_path1)"
   ]
  },
  {
   "cell_type": "code",
   "execution_count": 5,
   "metadata": {},
   "outputs": [
    {
     "name": "stdout",
     "output_type": "stream",
     "text": [
      "(15000, 50, 50, 3)\n",
      "(15000, 50, 50, 3)\n"
     ]
    }
   ],
   "source": [
    "print(bhArray.shape)\n",
    "print(sphArray.shape)"
   ]
  },
  {
   "cell_type": "code",
   "execution_count": 6,
   "metadata": {},
   "outputs": [],
   "source": [
    "dataArray = np.concatenate((bhArray,sphArray),axis=0)\n",
    "labelsArray = np.concatenate((np.zeros(np.shape(bhArray)[0]),np.ones(np.shape(sphArray)[0])),axis=0)"
   ]
  },
  {
   "cell_type": "code",
   "execution_count": 7,
   "metadata": {},
   "outputs": [
    {
     "name": "stdout",
     "output_type": "stream",
     "text": [
      "Running on the CPU\n"
     ]
    }
   ],
   "source": [
    "if torch.cuda.is_available():\n",
    "    device = torch.device(\"cuda\")\n",
    "    print(\"Running on the GPU\")\n",
    "else:\n",
    "    device = torch.device(\"cpu\")\n",
    "    print(\"Running on the CPU\")"
   ]
  },
  {
   "cell_type": "code",
   "execution_count": 8,
   "metadata": {},
   "outputs": [],
   "source": [
    "trainData, testData, trainLabels, testLabels = train_test_split(dataArray, labelsArray, random_state=42)"
   ]
  },
  {
   "cell_type": "code",
   "execution_count": 9,
   "metadata": {},
   "outputs": [],
   "source": [
    "trainData = torch.from_numpy(trainData)\n",
    "testData = torch.from_numpy(testData)\n",
    "trainLabels = torch.from_numpy(trainLabels)\n",
    "testLabels = torch.from_numpy(testLabels)"
   ]
  },
  {
   "cell_type": "code",
   "execution_count": 10,
   "metadata": {},
   "outputs": [],
   "source": [
    "train = torch.utils.data.TensorDataset(trainData, trainLabels)\n",
    "test = torch.utils.data.TensorDataset(testData, testLabels)"
   ]
  },
  {
   "cell_type": "code",
   "execution_count": 12,
   "metadata": {},
   "outputs": [],
   "source": [
    "#ResidualBlock block to be used in ResNet model\n",
    "class ResidualBlock(nn.Module):\n",
    "    def __init__(self, in_channels, out_channels, stride = 1, downsample = None):\n",
    "\n",
    "        super(ResidualBlock, self).__init__()\n",
    "        self.conv1 = nn.Sequential(\n",
    "                        nn.Conv2d(in_channels, out_channels, kernel_size = 3, stride = stride, padding = 1),\n",
    "                        nn.BatchNorm2d(out_channels),\n",
    "                        nn.ReLU())\n",
    "        self.conv2 = nn.Sequential(\n",
    "                        nn.Conv2d(out_channels, out_channels, kernel_size = 3, stride = 1, padding = 1),\n",
    "                        nn.BatchNorm2d(out_channels))\n",
    "        self.downsample = downsample\n",
    "        self.relu = nn.ReLU()\n",
    "        self.out_channels = out_channels\n",
    "        \n",
    "    def forward(self, x):\n",
    "        residual = x\n",
    "        out = self.conv1(x)\n",
    "        out = self.conv2(out)\n",
    "        if self.downsample:\n",
    "            residual = self.downsample(x)\n",
    "        out += residual\n",
    "        out = self.relu(out)\n",
    "        return out"
   ]
  },
  {
   "cell_type": "code",
   "execution_count": 56,
   "metadata": {},
   "outputs": [],
   "source": [
    "class ResNetModel(nn.Module):\n",
    "    def __init__(self, block, layers, num_classes=2):\n",
    "\n",
    "        super(ResNetModel, self).__init__()\n",
    "        self.conv1 = nn.Conv2d(in_channels=3, out_channels=64, kernel_size=7, stride=2, padding=3)\n",
    "        \n",
    "        self.inplanes = 64\n",
    "        self.layer0 = self._make_layer(block, 64, layers[0], stride=1)\n",
    "        self.layer1 = self._make_layer(block, 128, layers[1], stride=2)\n",
    "        self.layer2 = self._make_layer(block, 256, layers[2], stride=2)\n",
    "        self.layer3 = self._make_layer(block, 512, layers[3], stride=2)\n",
    "\n",
    "        # self.avgPool = nn.AvgPool2d(7, stride=1)\n",
    "\n",
    "        self.fc0 = nn.Linear(2048, num_classes)\n",
    "\n",
    "    def forward(self, x:Tensor):\n",
    "        x = self.conv1(x)\n",
    "        x = F.relu(x)\n",
    "        x = F.max_pool2d(x,2)\n",
    "\n",
    "        x = self.layer0(x)\n",
    "        x = self.layer1(x)\n",
    "        x = self.layer2(x)\n",
    "        x = self.layer3(x)\n",
    "\n",
    "        # x = self.avgPool(x)\n",
    "        x = torch.flatten(x, 1)\n",
    "        x = self.fc0(x)\n",
    "\n",
    "        return x\n",
    "\n",
    "\n",
    "    #https://blog.paperspace.com/writing-resnet-from-scratch-in-pytorch/\n",
    "    def _make_layer(self, block, planes, blocks, stride=1):\n",
    "        downsample = None\n",
    "        if stride != 1 or self.inplanes != planes:\n",
    "            \n",
    "            downsample = nn.Sequential(\n",
    "                nn.Conv2d(self.inplanes, planes, kernel_size=1, stride=stride),\n",
    "                nn.BatchNorm2d(planes),\n",
    "            )\n",
    "        layers = []\n",
    "        layers.append(block(self.inplanes, planes, stride, downsample))\n",
    "        self.inplanes = planes\n",
    "        for i in range(1, blocks):\n",
    "            layers.append(block(self.inplanes, planes))\n",
    "\n",
    "        return nn.Sequential(*layers)\n",
    "\n"
   ]
  },
  {
   "cell_type": "code",
   "execution_count": 57,
   "metadata": {},
   "outputs": [
    {
     "name": "stdout",
     "output_type": "stream",
     "text": [
      "----------------------------------------------------------------\n",
      "        Layer (type)               Output Shape         Param #\n",
      "================================================================\n",
      "            Conv2d-1           [-1, 64, 25, 25]           9,472\n",
      "            Conv2d-2           [-1, 64, 12, 12]          36,928\n",
      "       BatchNorm2d-3           [-1, 64, 12, 12]             128\n",
      "              ReLU-4           [-1, 64, 12, 12]               0\n",
      "            Conv2d-5           [-1, 64, 12, 12]          36,928\n",
      "       BatchNorm2d-6           [-1, 64, 12, 12]             128\n",
      "              ReLU-7           [-1, 64, 12, 12]               0\n",
      "     ResidualBlock-8           [-1, 64, 12, 12]               0\n",
      "            Conv2d-9           [-1, 64, 12, 12]          36,928\n",
      "      BatchNorm2d-10           [-1, 64, 12, 12]             128\n",
      "             ReLU-11           [-1, 64, 12, 12]               0\n",
      "           Conv2d-12           [-1, 64, 12, 12]          36,928\n",
      "      BatchNorm2d-13           [-1, 64, 12, 12]             128\n",
      "             ReLU-14           [-1, 64, 12, 12]               0\n",
      "    ResidualBlock-15           [-1, 64, 12, 12]               0\n",
      "           Conv2d-16           [-1, 64, 12, 12]          36,928\n",
      "      BatchNorm2d-17           [-1, 64, 12, 12]             128\n",
      "             ReLU-18           [-1, 64, 12, 12]               0\n",
      "           Conv2d-19           [-1, 64, 12, 12]          36,928\n",
      "      BatchNorm2d-20           [-1, 64, 12, 12]             128\n",
      "             ReLU-21           [-1, 64, 12, 12]               0\n",
      "    ResidualBlock-22           [-1, 64, 12, 12]               0\n",
      "           Conv2d-23            [-1, 128, 6, 6]          73,856\n",
      "      BatchNorm2d-24            [-1, 128, 6, 6]             256\n",
      "             ReLU-25            [-1, 128, 6, 6]               0\n",
      "           Conv2d-26            [-1, 128, 6, 6]         147,584\n",
      "      BatchNorm2d-27            [-1, 128, 6, 6]             256\n",
      "           Conv2d-28            [-1, 128, 6, 6]           8,320\n",
      "      BatchNorm2d-29            [-1, 128, 6, 6]             256\n",
      "             ReLU-30            [-1, 128, 6, 6]               0\n",
      "    ResidualBlock-31            [-1, 128, 6, 6]               0\n",
      "           Conv2d-32            [-1, 128, 6, 6]         147,584\n",
      "      BatchNorm2d-33            [-1, 128, 6, 6]             256\n",
      "             ReLU-34            [-1, 128, 6, 6]               0\n",
      "           Conv2d-35            [-1, 128, 6, 6]         147,584\n",
      "      BatchNorm2d-36            [-1, 128, 6, 6]             256\n",
      "             ReLU-37            [-1, 128, 6, 6]               0\n",
      "    ResidualBlock-38            [-1, 128, 6, 6]               0\n",
      "           Conv2d-39            [-1, 128, 6, 6]         147,584\n",
      "      BatchNorm2d-40            [-1, 128, 6, 6]             256\n",
      "             ReLU-41            [-1, 128, 6, 6]               0\n",
      "           Conv2d-42            [-1, 128, 6, 6]         147,584\n",
      "      BatchNorm2d-43            [-1, 128, 6, 6]             256\n",
      "             ReLU-44            [-1, 128, 6, 6]               0\n",
      "    ResidualBlock-45            [-1, 128, 6, 6]               0\n",
      "           Conv2d-46            [-1, 128, 6, 6]         147,584\n",
      "      BatchNorm2d-47            [-1, 128, 6, 6]             256\n",
      "             ReLU-48            [-1, 128, 6, 6]               0\n",
      "           Conv2d-49            [-1, 128, 6, 6]         147,584\n",
      "      BatchNorm2d-50            [-1, 128, 6, 6]             256\n",
      "             ReLU-51            [-1, 128, 6, 6]               0\n",
      "    ResidualBlock-52            [-1, 128, 6, 6]               0\n",
      "           Conv2d-53            [-1, 256, 3, 3]         295,168\n",
      "      BatchNorm2d-54            [-1, 256, 3, 3]             512\n",
      "             ReLU-55            [-1, 256, 3, 3]               0\n",
      "           Conv2d-56            [-1, 256, 3, 3]         590,080\n",
      "      BatchNorm2d-57            [-1, 256, 3, 3]             512\n",
      "           Conv2d-58            [-1, 256, 3, 3]          33,024\n",
      "      BatchNorm2d-59            [-1, 256, 3, 3]             512\n",
      "             ReLU-60            [-1, 256, 3, 3]               0\n",
      "    ResidualBlock-61            [-1, 256, 3, 3]               0\n",
      "           Conv2d-62            [-1, 256, 3, 3]         590,080\n",
      "      BatchNorm2d-63            [-1, 256, 3, 3]             512\n",
      "             ReLU-64            [-1, 256, 3, 3]               0\n",
      "           Conv2d-65            [-1, 256, 3, 3]         590,080\n",
      "      BatchNorm2d-66            [-1, 256, 3, 3]             512\n",
      "             ReLU-67            [-1, 256, 3, 3]               0\n",
      "    ResidualBlock-68            [-1, 256, 3, 3]               0\n",
      "           Conv2d-69            [-1, 256, 3, 3]         590,080\n",
      "      BatchNorm2d-70            [-1, 256, 3, 3]             512\n",
      "             ReLU-71            [-1, 256, 3, 3]               0\n",
      "           Conv2d-72            [-1, 256, 3, 3]         590,080\n",
      "      BatchNorm2d-73            [-1, 256, 3, 3]             512\n",
      "             ReLU-74            [-1, 256, 3, 3]               0\n",
      "    ResidualBlock-75            [-1, 256, 3, 3]               0\n",
      "           Conv2d-76            [-1, 256, 3, 3]         590,080\n",
      "      BatchNorm2d-77            [-1, 256, 3, 3]             512\n",
      "             ReLU-78            [-1, 256, 3, 3]               0\n",
      "           Conv2d-79            [-1, 256, 3, 3]         590,080\n",
      "      BatchNorm2d-80            [-1, 256, 3, 3]             512\n",
      "             ReLU-81            [-1, 256, 3, 3]               0\n",
      "    ResidualBlock-82            [-1, 256, 3, 3]               0\n",
      "           Conv2d-83            [-1, 256, 3, 3]         590,080\n",
      "      BatchNorm2d-84            [-1, 256, 3, 3]             512\n",
      "             ReLU-85            [-1, 256, 3, 3]               0\n",
      "           Conv2d-86            [-1, 256, 3, 3]         590,080\n",
      "      BatchNorm2d-87            [-1, 256, 3, 3]             512\n",
      "             ReLU-88            [-1, 256, 3, 3]               0\n",
      "    ResidualBlock-89            [-1, 256, 3, 3]               0\n",
      "           Conv2d-90            [-1, 256, 3, 3]         590,080\n",
      "      BatchNorm2d-91            [-1, 256, 3, 3]             512\n",
      "             ReLU-92            [-1, 256, 3, 3]               0\n",
      "           Conv2d-93            [-1, 256, 3, 3]         590,080\n",
      "      BatchNorm2d-94            [-1, 256, 3, 3]             512\n",
      "             ReLU-95            [-1, 256, 3, 3]               0\n",
      "    ResidualBlock-96            [-1, 256, 3, 3]               0\n",
      "           Conv2d-97            [-1, 512, 2, 2]       1,180,160\n",
      "      BatchNorm2d-98            [-1, 512, 2, 2]           1,024\n",
      "             ReLU-99            [-1, 512, 2, 2]               0\n",
      "          Conv2d-100            [-1, 512, 2, 2]       2,359,808\n",
      "     BatchNorm2d-101            [-1, 512, 2, 2]           1,024\n",
      "          Conv2d-102            [-1, 512, 2, 2]         131,584\n",
      "     BatchNorm2d-103            [-1, 512, 2, 2]           1,024\n",
      "            ReLU-104            [-1, 512, 2, 2]               0\n",
      "   ResidualBlock-105            [-1, 512, 2, 2]               0\n",
      "          Conv2d-106            [-1, 512, 2, 2]       2,359,808\n",
      "     BatchNorm2d-107            [-1, 512, 2, 2]           1,024\n",
      "            ReLU-108            [-1, 512, 2, 2]               0\n",
      "          Conv2d-109            [-1, 512, 2, 2]       2,359,808\n",
      "     BatchNorm2d-110            [-1, 512, 2, 2]           1,024\n",
      "            ReLU-111            [-1, 512, 2, 2]               0\n",
      "   ResidualBlock-112            [-1, 512, 2, 2]               0\n",
      "          Conv2d-113            [-1, 512, 2, 2]       2,359,808\n",
      "     BatchNorm2d-114            [-1, 512, 2, 2]           1,024\n",
      "            ReLU-115            [-1, 512, 2, 2]               0\n",
      "          Conv2d-116            [-1, 512, 2, 2]       2,359,808\n",
      "     BatchNorm2d-117            [-1, 512, 2, 2]           1,024\n",
      "            ReLU-118            [-1, 512, 2, 2]               0\n",
      "   ResidualBlock-119            [-1, 512, 2, 2]               0\n",
      "          Linear-120                    [-1, 2]           4,098\n",
      "================================================================\n",
      "Total params: 21,297,154\n",
      "Trainable params: 21,297,154\n",
      "Non-trainable params: 0\n",
      "----------------------------------------------------------------\n",
      "Input size (MB): 0.03\n",
      "Forward/backward pass size (MB): 3.97\n",
      "Params size (MB): 81.24\n",
      "Estimated Total Size (MB): 85.24\n",
      "----------------------------------------------------------------\n"
     ]
    }
   ],
   "source": [
    "from torchvision import models\n",
    "from torchsummary import summary\n",
    "\n",
    "model = ResNetModel(ResidualBlock, [3, 4, 6, 3]).to(device)\n",
    "summary(model, (3, 50, 50))"
   ]
  },
  {
   "cell_type": "code",
   "execution_count": 27,
   "metadata": {},
   "outputs": [],
   "source": [
    "def trainFunction(config=None):\n",
    "\n",
    "    #init wandb\n",
    "    with wandb.init(project=\"PyTorch\", name=\"resnetmodel\", config=config):\n",
    "        config = wandb.config\n",
    "\n",
    "        #initialize variables\n",
    "        resNetModel = ResNetModel(ResidualBlock, [3, 4, 6, 3]).to(device)\n",
    "        criterion = nn.CrossEntropyLoss()\n",
    "        optimizer = torch.optim.SGD(resNetModel.parameters(), lr=config.learning_rate)\n",
    "        #initialize variables end\n",
    "\n",
    "\n",
    "        #data\n",
    "        trainLoader = DataLoader(train, shuffle=True, batch_size=config.batch_size)\n",
    "        testLoader = DataLoader(test, shuffle=True, batch_size=config.batch_size)\n",
    "        #data end\n",
    "\n",
    "\n",
    "        wandb.watch(resNetModel, criterion, log='all')\n",
    "\n",
    "        \n",
    "        #START\n",
    "        for epoch in range(50):\n",
    "\n",
    "            #training variables\n",
    "            trainRunningLoss = 0.0\n",
    "            correct = 0\n",
    "            y_pred = []\n",
    "            y_true = []\n",
    "            #training loop\n",
    "            resNetModel.train()\n",
    "            for i, data in enumerate(trainLoader):\n",
    "                inputs, labels = data\n",
    "                inputs, labels = inputs.to(device), labels.to(device)\n",
    "\n",
    "                optimizer.zero_grad()\n",
    "                output = resNetModel(inputs.permute(0,3,1,2))\n",
    "                output1 = (torch.max(torch.exp(output.to(device)), 1)[1])\n",
    "                y_pred.extend(output1) # Save Prediction\n",
    "                \n",
    "                y_true.extend(labels) # Save Truth\n",
    "                loss = criterion(output, labels.type(torch.LongTensor).to(device))\n",
    "                loss.backward()\n",
    "                optimizer.step()\n",
    "                \n",
    "                trainRunningLoss += loss.item()\n",
    "            #training loop end\n",
    "            correct = (torch.FloatTensor(y_pred) == torch.FloatTensor(y_true)).sum()\n",
    "            trainAccuracy = correct / len(y_true)\n",
    "            #training variables end\n",
    "\n",
    "            #test variables\n",
    "            testRunningLoss = 0.0\n",
    "            y_pred = []\n",
    "            y_true = []\n",
    "            #test loop\n",
    "            resNetModel.eval()\n",
    "            for j, data in enumerate(testLoader):\n",
    "                inputs, labels = data\n",
    "                inputs, labels = inputs.to(device), labels.to(device)\n",
    "                output = resNetModel(inputs.permute(0,3,1,2))# Feed Network\n",
    "\n",
    "                output1 = (torch.max(torch.exp(output.to(device)), 1)[1])\n",
    "                y_pred.extend(output1) # Save Prediction\n",
    "                \n",
    "                y_true.extend(labels) # Save Truth\n",
    "                loss = criterion(output, labels.type(torch.LongTensor).to(device))\n",
    "                testRunningLoss += loss.item()\n",
    "            #test loop end\n",
    "\n",
    "            correct = (torch.FloatTensor(y_pred) == torch.FloatTensor(y_true)).sum()\n",
    "            testAccuracy = correct / len(y_true)\n",
    "            epochLoss = trainRunningLoss/len(bhArray)\n",
    "            #test variables end\n",
    "\n",
    "            #wandb log\n",
    "            wandb.log({\"Train epoch_loss\":epochLoss, \"Test epoch_loss\": testRunningLoss, \"Train accuracy\": trainAccuracy,\"Test accuracy\": testAccuracy})\n",
    "\n",
    "        #END\n"
   ]
  },
  {
   "cell_type": "code",
   "execution_count": 58,
   "metadata": {},
   "outputs": [
    {
     "name": "stdout",
     "output_type": "stream",
     "text": [
      "Create sweep with ID: pe4pf87e\n",
      "Sweep URL: https://wandb.ai/g13hvl2023/test/sweeps/pe4pf87e\n"
     ]
    }
   ],
   "source": [
    "sweep_configuration = {\n",
    "    'method': 'grid',\n",
    "    'name': 'sweep',\n",
    "    'metric': {\n",
    "        'goal': 'maximize', \n",
    "        'name': 'Test accuracy'\n",
    "        },\n",
    "    'parameters': {\n",
    "        'batch_size': {'values': [50]},\n",
    "        'learning_rate': {'values': [0.01]}\n",
    "     }\n",
    "}\n",
    "sweep_id = wandb.sweep(sweep=sweep_configuration, project=\"test\")\n"
   ]
  },
  {
   "cell_type": "code",
   "execution_count": 59,
   "metadata": {},
   "outputs": [
    {
     "name": "stderr",
     "output_type": "stream",
     "text": [
      "\u001b[34m\u001b[1mwandb\u001b[0m: Agent Starting Run: lzpi0byg with config:\n",
      "\u001b[34m\u001b[1mwandb\u001b[0m: \tbatch_size: 50\n",
      "\u001b[34m\u001b[1mwandb\u001b[0m: \tlearning_rate: 0.01\n",
      "Failed to detect the name of this notebook, you can set it manually with the WANDB_NOTEBOOK_NAME environment variable to enable code saving.\n",
      "\u001b[34m\u001b[1mwandb\u001b[0m: \u001b[33mWARNING\u001b[0m Ignored wandb.init() arg project when running a sweep.\n"
     ]
    },
    {
     "data": {
      "text/html": [
       "Tracking run with wandb version 0.13.10"
      ],
      "text/plain": [
       "<IPython.core.display.HTML object>"
      ]
     },
     "metadata": {},
     "output_type": "display_data"
    },
    {
     "data": {
      "text/html": [
       "Run data is saved locally in <code>c:\\Users\\47472\\Documents\\Skole\\Hvl\\s6\\dat191\\Bachelor\\Code\\notebooks\\pyTorch\\wandb\\run-20230228_131956-lzpi0byg</code>"
      ],
      "text/plain": [
       "<IPython.core.display.HTML object>"
      ]
     },
     "metadata": {},
     "output_type": "display_data"
    },
    {
     "data": {
      "text/html": [
       "Syncing run <strong><a href='https://wandb.ai/g13hvl2023/test/runs/lzpi0byg' target=\"_blank\">resnetmodel</a></strong> to <a href='https://wandb.ai/g13hvl2023/test' target=\"_blank\">Weights & Biases</a> (<a href='https://wandb.me/run' target=\"_blank\">docs</a>)<br/>Sweep page: <a href='https://wandb.ai/g13hvl2023/test/sweeps/pe4pf87e' target=\"_blank\">https://wandb.ai/g13hvl2023/test/sweeps/pe4pf87e</a>"
      ],
      "text/plain": [
       "<IPython.core.display.HTML object>"
      ]
     },
     "metadata": {},
     "output_type": "display_data"
    },
    {
     "data": {
      "text/html": [
       " View project at <a href='https://wandb.ai/g13hvl2023/test' target=\"_blank\">https://wandb.ai/g13hvl2023/test</a>"
      ],
      "text/plain": [
       "<IPython.core.display.HTML object>"
      ]
     },
     "metadata": {},
     "output_type": "display_data"
    },
    {
     "data": {
      "text/html": [
       " View sweep at <a href='https://wandb.ai/g13hvl2023/test/sweeps/pe4pf87e' target=\"_blank\">https://wandb.ai/g13hvl2023/test/sweeps/pe4pf87e</a>"
      ],
      "text/plain": [
       "<IPython.core.display.HTML object>"
      ]
     },
     "metadata": {},
     "output_type": "display_data"
    },
    {
     "data": {
      "text/html": [
       " View run at <a href='https://wandb.ai/g13hvl2023/test/runs/lzpi0byg' target=\"_blank\">https://wandb.ai/g13hvl2023/test/runs/lzpi0byg</a>"
      ],
      "text/plain": [
       "<IPython.core.display.HTML object>"
      ]
     },
     "metadata": {},
     "output_type": "display_data"
    }
   ],
   "source": [
    "wandb.agent(sweep_id, function=trainFunction, count=10)"
   ]
  }
 ],
 "metadata": {
  "kernelspec": {
   "display_name": "Python 3",
   "language": "python",
   "name": "python3"
  },
  "language_info": {
   "codemirror_mode": {
    "name": "ipython",
    "version": 3
   },
   "file_extension": ".py",
   "mimetype": "text/x-python",
   "name": "python",
   "nbconvert_exporter": "python",
   "pygments_lexer": "ipython3",
   "version": "3.9.6"
  },
  "orig_nbformat": 4,
  "vscode": {
   "interpreter": {
    "hash": "e9fb61b4c72117f5d7b2c8d6242145ec5a71ca8cd00b47ff0a0694a5bc1f5f2f"
   }
  }
 },
 "nbformat": 4,
 "nbformat_minor": 2
}
