{
 "cells": [
  {
   "cell_type": "code",
   "execution_count": 1,
   "metadata": {},
   "outputs": [],
   "source": [
    "import sys\n",
    "from pathlib import Path\n",
    "\n",
    "import os\n",
    "\n",
    "import numpy as np"
   ]
  },
  {
   "cell_type": "code",
   "execution_count": 2,
   "metadata": {},
   "outputs": [],
   "source": [
    "module_path = str(Path.cwd().parents[0].parents[0] / \"src\")\n",
    "\n",
    "if module_path not in sys.path:\n",
    "    sys.path.append(module_path)\n",
    "\n",
    "from dataloader import *\n",
    "from plotCreator import *"
   ]
  },
  {
   "cell_type": "code",
   "execution_count": 3,
   "metadata": {},
   "outputs": [],
   "source": [
    "data_path = str(Path.cwd().parents[0].parents[0] / \"data\" / \"bh\" / \"BH_n5_M8_res50_10000_events.h5\")\n",
    "bhArray = dataToArray(data_path)"
   ]
  },
  {
   "cell_type": "code",
   "execution_count": 4,
   "metadata": {},
   "outputs": [],
   "source": [
    "sphdata_path = str(Path.cwd().parents[0].parents[0] / \"data\" / \"sph\" / \"PP13-Sphaleron-THR9-FRZ15-NB0-NSUBPALL_res50_10000_events.h5\")\n",
    "sphArray = dataToArray(sphdata_path)"
   ]
  },
  {
   "cell_type": "code",
   "execution_count": 5,
   "metadata": {},
   "outputs": [],
   "source": [
    "def combineSum(array): #combine with sum\n",
    "    combinedImage = array[0].copy()\n",
    "    for i in range(len(array)):\n",
    "        for j in range(50):\n",
    "            for k in range(50):\n",
    "                for rgb in range(3):\n",
    "                    # if combinedImage[j][k][rgb] < [i][j][k][rgb]:\n",
    "                    combinedImage[j][k][rgb] += array[i][j][k][rgb]\n",
    "\n",
    "\n",
    "    return combinedImage"
   ]
  },
  {
   "cell_type": "code",
   "execution_count": 6,
   "metadata": {},
   "outputs": [],
   "source": [
    "bhcombinedSum = combineSum(bhArray)\n",
    "sphcombinedSum = combineSum(sphArray)"
   ]
  },
  {
   "cell_type": "code",
   "execution_count": 7,
   "metadata": {},
   "outputs": [
    {
     "name": "stdout",
     "output_type": "stream",
     "text": [
      "1190\n",
      "159\n"
     ]
    }
   ],
   "source": [
    "print(np.sum([1 if x == 0.0 else 0 for x in sphcombinedSum[:,:,2:3].flatten()]))\n",
    "print(np.sum([1 if x == 0.0 else 0 for x in bhcombinedSum[:,:,2:3].flatten()]))"
   ]
  },
  {
   "cell_type": "code",
   "execution_count": 8,
   "metadata": {},
   "outputs": [
    {
     "data": {
      "text/plain": [
       "<matplotlib.image.AxesImage at 0x2126bd46190>"
      ]
     },
     "execution_count": 8,
     "metadata": {},
     "output_type": "execute_result"
    },
    {
     "data": {
      "image/png": "[encoded data removed]",
      "text/plain": [
       "<Figure size 864x864 with 2 Axes>"
      ]
     },
     "metadata": {
      "needs_background": "light"
     },
     "output_type": "display_data"
    }
   ],
   "source": [
    "f, axarr = plt.subplots(1,2, figsize=(12,12))\n",
    "axarr[0].imshow(np.reshape([1 if x == 0.0 else 0 for x in sphcombinedSum[:,:,2:3].flatten()],(50,50,1)),cmap='gray')\n",
    "axarr[1].imshow(np.reshape([1 if x == 0.0 else 0 for x in bhcombinedSum[:,:,2:3].flatten()],(50,50,1)),cmap='gray')"
   ]
  },
  {
   "cell_type": "code",
   "execution_count": 9,
   "metadata": {},
   "outputs": [],
   "source": [
    "def predbh(histo): #Returns true if bh\n",
    "    a = histo[:,:,2:3].copy()\n",
    "    #should be 50x50x1\n",
    "    #check only valid area\n",
    "    for j in range(50):\n",
    "        for i in range(0,12):\n",
    "            if a[j][i] != 0.0:\n",
    "                # print(i,j)\n",
    "                return True #bh\n",
    "        \n",
    "        for i in range(38,50):\n",
    "            if a[j][i] != 0.0:\n",
    "                # print(i,j)\n",
    "                return True #bh\n",
    "    return False #not bh"
   ]
  },
  {
   "cell_type": "code",
   "execution_count": 10,
   "metadata": {},
   "outputs": [
    {
     "name": "stdout",
     "output_type": "stream",
     "text": [
      "8672 number of true bh\n",
      "9988 number of true sph\n"
     ]
    }
   ],
   "source": [
    "sumbh = 0\n",
    "sumsph = 0\n",
    "for i in range(10_000):\n",
    "    if not predbh(bhArray[i]):\n",
    "        sumbh += 1\n",
    "    if not predbh(sphArray[i]):\n",
    "        sumsph += 1\n",
    "\n",
    "print(sumbh, \"number of true bh\")\n",
    "print(sumsph, \"number of true sph\")"
   ]
  }
 ],
 "metadata": {
  "kernelspec": {
   "display_name": "Python 3",
   "language": "python",
   "name": "python3"
  },
  "language_info": {
   "codemirror_mode": {
    "name": "ipython",
    "version": 3
   },
   "file_extension": ".py",
   "mimetype": "text/x-python",
   "name": "python",
   "nbconvert_exporter": "python",
   "pygments_lexer": "ipython3",
   "version": "3.9.6"
  },
  "orig_nbformat": 4,
  "vscode": {
   "interpreter": {
    "hash": "e9fb61b4c72117f5d7b2c8d6242145ec5a71ca8cd00b47ff0a0694a5bc1f5f2f"
   }
  }
 },
 "nbformat": 4,
 "nbformat_minor": 2
}
