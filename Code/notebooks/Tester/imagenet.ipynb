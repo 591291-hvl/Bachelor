{
 "cells": [
  {
   "cell_type": "code",
   "execution_count": null,
   "metadata": {},
   "outputs": [],
   "source": [
    "#notebook for training models on imagenet and saving them"
   ]
  },
  {
   "cell_type": "code",
   "execution_count": 8,
   "metadata": {},
   "outputs": [],
   "source": [
    "#imports\n",
    "\n",
    "import sys\n",
    "from pathlib import Path\n",
    "\n",
    "import torch\n",
    "from torch.utils.data import DataLoader\n",
    "from torchvision import datasets, transforms\n",
    "import torch.nn as nn"
   ]
  },
  {
   "cell_type": "code",
   "execution_count": 9,
   "metadata": {},
   "outputs": [
    {
     "name": "stdout",
     "output_type": "stream",
     "text": [
      "Running on the GPU\n"
     ]
    }
   ],
   "source": [
    "module_path = str(Path.cwd().parents[0].parents[0] / \"src\")\n",
    "\n",
    "if module_path not in sys.path:\n",
    "    sys.path.append(module_path)\n",
    "\n",
    "from dataloader import *\n",
    "import trainers\n",
    "import nnmodels\n",
    "\n",
    "ds_train_path = str(Path.cwd().parents[0].parents[0] / \"data\" / \"imageNet\" / \"ILSVRC\" / \"Data\" / \"CLS-LOC\" / \"train\")\n",
    "ds_test_path = str(Path.cwd().parents[0].parents[0] / \"data\" / \"imageNet\" / \"ILSVRC\" / \"Data\" / \"CLS-LOC\" / \"test\")"
   ]
  },
  {
   "cell_type": "code",
   "execution_count": 10,
   "metadata": {},
   "outputs": [
    {
     "name": "stdout",
     "output_type": "stream",
     "text": [
      "Running on the GPU\n"
     ]
    }
   ],
   "source": [
    "if torch.cuda.is_available():\n",
    "    device = torch.device(\"cuda\")\n",
    "    print(\"Running on the GPU\")\n",
    "else:\n",
    "    device = torch.device(\"cpu\")\n",
    "    print(\"Running on the CPU\")"
   ]
  },
  {
   "cell_type": "code",
   "execution_count": null,
   "metadata": {},
   "outputs": [],
   "source": [
    "bs = 16\n",
    "trans = transforms.Compose([\n",
    "    transforms.ToTensor(),\n",
    "])\n",
    "\n",
    "train_dataset = datasets.ImageFolder(ds_train_path, trans)\n",
    "trainloader = DataLoader(train_dataset, bs)\n",
    "\n",
    "test_dataset = datasets.ImageFolder(ds_test_path, trans)\n",
    "testloader = DataLoader(test_dataset, bs)"
   ]
  },
  {
   "cell_type": "code",
   "execution_count": null,
   "metadata": {},
   "outputs": [],
   "source": [
    "model = nnmodels.ConvModel(0)\n",
    "criterion = nn.CrossEntropyLoss()\n",
    "optimizer = torch.optim.Adam(model.parameters(), lr=0.01)"
   ]
  },
  {
   "cell_type": "code",
   "execution_count": null,
   "metadata": {},
   "outputs": [],
   "source": [
    "for epoch in range(5):\n",
    "    _, _ = trainers.trainLoop(model, trainloader, criterion, optimizer)"
   ]
  },
  {
   "cell_type": "code",
   "execution_count": null,
   "metadata": {},
   "outputs": [],
   "source": [
    "#test block, since testLoop has too many binary speficic actions\n",
    "testRunningLoss = 0.0\n",
    "y_pred = []\n",
    "y_true = []\n",
    "for j, data in enumerate(testloader):\n",
    "        inputs, labels = data\n",
    "        inputs, labels = inputs.to(device), labels.to(device)\n",
    "        output = model(inputs.permute(0,3,1,2))# Feed Network\n",
    "\n",
    "        output1 = (torch.max(output.to(device), 1)[1])\n",
    "        y_pred.extend(output1) # Save Prediction\n",
    "        \n",
    "        y_true.extend(labels) # Save Truth\n",
    "        loss = criterion(output, labels.type(torch.LongTensor).to(device))\n",
    "        testRunningLoss += loss.item() * inputs.size(0)\n",
    "correct = (torch.FloatTensor(y_pred) == torch.FloatTensor(y_true)).sum()\n",
    "testAccuracy = correct / len(y_true)\n",
    "testRunningLoss = testRunningLoss/len(y_pred)"
   ]
  },
  {
   "cell_type": "code",
   "execution_count": null,
   "metadata": {},
   "outputs": [],
   "source": [
    "print(testAccuracy)"
   ]
  },
  {
   "cell_type": "code",
   "execution_count": null,
   "metadata": {},
   "outputs": [],
   "source": [
    "class Resnet50(nn.Module):\n",
    "    def __init__(self, model):\n",
    "        super(Resnet50, self).__init__()\n",
    "        self.model = model\n",
    "        self.my_new_layer = nn.Sequential(nn.Linear(1000, 2))\n",
    "    \n",
    "    def forward(self, x):\n",
    "        x = self.model(x)\n",
    "        x = self.my_new_layer(x)\n",
    "        return x"
   ]
  },
  {
   "cell_type": "code",
   "execution_count": null,
   "metadata": {},
   "outputs": [],
   "source": [
    "newModel = OutputLayer(model)\n",
    "newModel"
   ]
  }
 ],
 "metadata": {
  "kernelspec": {
   "display_name": "DAT191-gpu",
   "language": "python",
   "name": "python3"
  },
  "language_info": {
   "codemirror_mode": {
    "name": "ipython",
    "version": 3
   },
   "file_extension": ".py",
   "mimetype": "text/x-python",
   "name": "python",
   "nbconvert_exporter": "python",
   "pygments_lexer": "ipython3",
   "version": "3.9.16"
  },
  "orig_nbformat": 4
 },
 "nbformat": 4,
 "nbformat_minor": 2
}
