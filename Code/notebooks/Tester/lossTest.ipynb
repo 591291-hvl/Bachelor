{
 "cells": [
  {
   "cell_type": "code",
   "execution_count": 1,
   "metadata": {},
   "outputs": [],
   "source": [
    "import torch\n",
    "import torchvision as torchv\n",
    "import torch.nn as nn\n",
    "import torch.nn.functional as F\n",
    "import torch.optim as optim\n",
    "from torch.utils.data import DataLoader\n",
    "from torch.utils.data import Dataset\n",
    "from torch import Tensor\n",
    "from torch.utils import data\n",
    "\n",
    "import matplotlib.pyplot as plt\n",
    "import numpy as np"
   ]
  },
  {
   "cell_type": "code",
   "execution_count": 2,
   "metadata": {},
   "outputs": [],
   "source": [
    "def custom_cross_entropy(x, y): \n",
    "    long_prob = -1.0 * F.log_softmax(x, 1)\n",
    "    loss = long_prob.gather(1, y.unsqueeze(1))\n",
    "    loss = loss.mean()\n",
    "    return loss"
   ]
  },
  {
   "cell_type": "code",
   "execution_count": 5,
   "metadata": {},
   "outputs": [],
   "source": [
    "def custom_loss(x,y):\n",
    "    loss = torch.mean((x-y)**2)\n",
    "    return loss"
   ]
  },
  {
   "cell_type": "code",
   "execution_count": 20,
   "metadata": {},
   "outputs": [],
   "source": [
    "def temp():\n",
    "    loss = nn.CrossEntropyLoss()\n",
    "    pred0 = []\n",
    "    for i in range(11):\n",
    "        pred0.append([round(0.1*i,1),0])\n",
    "    pred0 = torch.FloatTensor(pred0)\n",
    "    labels0 = torch.LongTensor(np.zeros(len(pred0)))\n",
    "    \n",
    "    plotable0 = []\n",
    "    for i in range(len(pred0)):\n",
    "        plotable0.append(loss(pred0[i].unsqueeze(0),labels0[i].unsqueeze(0)))\n",
    "\n",
    "    \n",
    "    pred1 = []\n",
    "    for i in range(11):\n",
    "        pred1.append([round(0.1*i,1),1])\n",
    "    pred1 = torch.FloatTensor(pred1)\n",
    "    labels1 = torch.LongTensor(np.ones(len(pred1)))\n",
    "    plotable1 = []\n",
    "    for i in range(len(pred1)):\n",
    "        plotable1.append(loss(pred1[i].unsqueeze(0),labels1[i].unsqueeze(0)))\n",
    "    \n",
    "    return plotable0, plotable1\n",
    "    \n"
   ]
  },
  {
   "cell_type": "code",
   "execution_count": 23,
   "metadata": {},
   "outputs": [
    {
     "name": "stdout",
     "output_type": "stream",
     "text": [
      "[tensor(0.6931), tensor(0.6444), tensor(0.5981), tensor(0.5544), tensor(0.5130), tensor(0.4741), tensor(0.4375), tensor(0.4032), tensor(0.3711), tensor(0.3412), tensor(0.3133)]\n",
      "[tensor(0.3133), tensor(0.3412), tensor(0.3711), tensor(0.4032), tensor(0.4375), tensor(0.4741), tensor(0.5130), tensor(0.5544), tensor(0.5981), tensor(0.6444), tensor(0.6931)]\n"
     ]
    },
    {
     "data": {
      "text/plain": [
       "[<matplotlib.lines.Line2D at 0x1f89ab70100>]"
      ]
     },
     "execution_count": 23,
     "metadata": {},
     "output_type": "execute_result"
    },
    {
     "data": {
      "image/png": "[encoded data removed]",
      "text/plain": [
       "<Figure size 640x480 with 1 Axes>"
      ]
     },
     "metadata": {},
     "output_type": "display_data"
    }
   ],
   "source": [
    "a, b = temp()\n",
    "print(a)\n",
    "print(b)\n",
    "plt.plot(a)\n",
    "# plt.plot(list(zip(a,b)))"
   ]
  },
  {
   "cell_type": "code",
   "execution_count": 24,
   "metadata": {},
   "outputs": [],
   "source": [
    "loss = nn.CrossEntropyLoss()"
   ]
  },
  {
   "cell_type": "code",
   "execution_count": 111,
   "metadata": {},
   "outputs": [
    {
     "name": "stdout",
     "output_type": "stream",
     "text": [
      "tensor([[0.5000, 0.5000]])\n",
      "tensor([1])\n"
     ]
    },
    {
     "data": {
      "text/plain": [
       "tensor(0.6931)"
      ]
     },
     "execution_count": 111,
     "metadata": {},
     "output_type": "execute_result"
    }
   ],
   "source": [
    "x = F.softmax(torch.FloatTensor([0,0]).unsqueeze(0),1)\n",
    "y = torch.LongTensor([1])\n",
    "print(x)\n",
    "print(y)\n",
    "\n",
    "loss(x, y)"
   ]
  }
 ],
 "metadata": {
  "kernelspec": {
   "display_name": "DAT191-gpu",
   "language": "python",
   "name": "python3"
  },
  "language_info": {
   "codemirror_mode": {
    "name": "ipython",
    "version": 3
   },
   "file_extension": ".py",
   "mimetype": "text/x-python",
   "name": "python",
   "nbconvert_exporter": "python",
   "pygments_lexer": "ipython3",
   "version": "3.9.16"
  },
  "orig_nbformat": 4,
  "vscode": {
   "interpreter": {
    "hash": "75a7a58f3f8071ece7c4de206f0eb318832e927c0f5cee080ee8565c60d715a0"
   }
  }
 },
 "nbformat": 4,
 "nbformat_minor": 2
}
