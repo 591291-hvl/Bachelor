{
 "cells": [
  {
   "cell_type": "code",
   "execution_count": 1,
   "metadata": {},
   "outputs": [
    {
     "name": "stderr",
     "output_type": "stream",
     "text": [
      "c:\\Users\\47472\\AppData\\Local\\Programs\\Python\\Python39\\lib\\site-packages\\tqdm\\auto.py:22: TqdmWarning: IProgress not found. Please update jupyter and ipywidgets. See https://ipywidgets.readthedocs.io/en/stable/user_install.html\n",
      "  from .autonotebook import tqdm as notebook_tqdm\n"
     ]
    }
   ],
   "source": [
    "import torch\n",
    "import torchvision as torchv\n",
    "import torch.nn as nn\n",
    "import torch.nn.functional as F\n",
    "import torch.optim as optim\n",
    "from torch.utils.data import DataLoader\n",
    "from torch.utils.data import Dataset\n",
    "from torch import Tensor\n",
    "from torch.utils import data\n",
    "\n",
    "import matplotlib.pyplot as plt\n",
    "import numpy as np"
   ]
  },
  {
   "cell_type": "code",
   "execution_count": 2,
   "metadata": {},
   "outputs": [],
   "source": [
    "def custom_cross_entropy(x, y): \n",
    "    long_prob = -1.0 * F.log_softmax(x, 1)\n",
    "    loss = long_prob.gather(1, y.unsqueeze(1))\n",
    "    loss = loss.mean()\n",
    "    return loss"
   ]
  },
  {
   "cell_type": "code",
   "execution_count": 3,
   "metadata": {},
   "outputs": [],
   "source": [
    "def custom_loss(x,y):\n",
    "    loss = torch.mean((x-y)**2)\n",
    "    return loss"
   ]
  },
  {
   "cell_type": "code",
   "execution_count": 4,
   "metadata": {},
   "outputs": [],
   "source": [
    "def temp():\n",
    "    loss = nn.CrossEntropyLoss()\n",
    "    pred0 = []\n",
    "    for i in range(11):\n",
    "        pred0.append([round(0.1*i,1),0])\n",
    "    pred0 = torch.FloatTensor(pred0)\n",
    "    labels0 = torch.LongTensor(np.zeros(len(pred0)))\n",
    "    \n",
    "    plotable0 = []\n",
    "    for i in range(len(pred0)):\n",
    "        plotable0.append(loss(pred0[i].unsqueeze(0),labels0[i].unsqueeze(0)))\n",
    "\n",
    "    \n",
    "    pred1 = []\n",
    "    for i in range(11):\n",
    "        pred1.append([round(0.1*i,1),1])\n",
    "    pred1 = torch.FloatTensor(pred1)\n",
    "    labels1 = torch.LongTensor(np.ones(len(pred1)))\n",
    "    plotable1 = []\n",
    "    for i in range(len(pred1)):\n",
    "        plotable1.append(loss(pred1[i].unsqueeze(0),labels1[i].unsqueeze(0)))\n",
    "    \n",
    "    return plotable0, plotable1\n",
    "    \n"
   ]
  },
  {
   "cell_type": "code",
   "execution_count": 5,
   "metadata": {},
   "outputs": [
    {
     "name": "stdout",
     "output_type": "stream",
     "text": [
      "[tensor(0.6931), tensor(0.6444), tensor(0.5981), tensor(0.5544), tensor(0.5130), tensor(0.4741), tensor(0.4375), tensor(0.4032), tensor(0.3711), tensor(0.3412), tensor(0.3133)]\n",
      "[tensor(0.3133), tensor(0.3412), tensor(0.3711), tensor(0.4032), tensor(0.4375), tensor(0.4741), tensor(0.5130), tensor(0.5544), tensor(0.5981), tensor(0.6444), tensor(0.6931)]\n"
     ]
    },
    {
     "data": {
      "text/plain": [
       "[<matplotlib.lines.Line2D at 0x1e48f4b3250>,\n",
       " <matplotlib.lines.Line2D at 0x1e48f4b31f0>]"
      ]
     },
     "execution_count": 5,
     "metadata": {},
     "output_type": "execute_result"
    },
    {
     "data": {
      "image/png": "[encoded data removed]",
      "text/plain": [
       "<Figure size 432x288 with 1 Axes>"
      ]
     },
     "metadata": {
      "needs_background": "light"
     },
     "output_type": "display_data"
    }
   ],
   "source": [
    "a, b = temp()\n",
    "print(a)\n",
    "print(b)\n",
    "# plt.plot(a)\n",
    "plt.plot(list(zip(a,b)))"
   ]
  },
  {
   "cell_type": "code",
   "execution_count": 6,
   "metadata": {},
   "outputs": [],
   "source": [
    "loss = nn.CrossEntropyLoss()"
   ]
  },
  {
   "cell_type": "code",
   "execution_count": 7,
   "metadata": {},
   "outputs": [
    {
     "name": "stdout",
     "output_type": "stream",
     "text": [
      "tensor([[0.5000, 0.5000]]) tensor([[0.9000, 0.1000]])\n",
      "tensor([1])\n",
      "tensor(1.3133)\n"
     ]
    }
   ],
   "source": [
    "x = F.softmax(torch.FloatTensor([0,0]).unsqueeze(0),1)\n",
    "x1 = torch.FloatTensor([0.9,0.1]).unsqueeze(0)\n",
    "y = torch.LongTensor([1])\n",
    "print(x, x1)\n",
    "print(y)\n",
    "\n",
    "output = loss(torch.FloatTensor([1,0]).unsqueeze(0), y)\n",
    "print(output)"
   ]
  },
  {
   "cell_type": "code",
   "execution_count": 8,
   "metadata": {},
   "outputs": [
    {
     "data": {
      "image/png": "[encoded data removed]",
      "text/plain": [
       "<Figure size 432x288 with 1 Axes>"
      ]
     },
     "metadata": {
      "needs_background": "light"
     },
     "output_type": "display_data"
    }
   ],
   "source": [
    "#Redefining our data\n",
    "Y_pred = torch.linspace(0., 1., 1000)\n",
    "Y_label = torch.ones(1)\n",
    "Y_labels = torch.ones(len(Y_pred))\n",
    "\n",
    "#applying sigmoid\n",
    "x_entropy_vals = -torch.multiply(Y_label, torch.log(Y_pred)) - torch.multiply((1. - Y_label), torch.log(1. - Y_pred))\n",
    "#ploting the predicted values against the cross entropy loss\n",
    "plt.plot(Y_pred, x_entropy_vals, 'r-' )\n",
    "plt.title('Cross entropy loss')\n",
    "plt.xlabel('predicted prpbability')\n",
    "plt.ylabel('log loss')\n",
    "plt.ylim(-0.2, 5)\n",
    "plt.show()"
   ]
  },
  {
   "cell_type": "code",
   "execution_count": 121,
   "metadata": {},
   "outputs": [
    {
     "name": "stdout",
     "output_type": "stream",
     "text": [
      "input:  tensor([[ 0.2304,  1.2993, -0.7590, -0.3731,  2.1350, -1.5443, -0.4921, -1.4430,\n",
      "         -0.2188, -2.0461]], requires_grad=True)\n",
      "target:  tensor([0])\n",
      "output:  tensor(2.5750, grad_fn=<NllLossBackward0>)\n"
     ]
    }
   ],
   "source": [
    "input = torch.randn(1, 10, requires_grad=True)\n",
    "target = torch.empty(1, dtype=torch.long).random_(10)\n",
    "\n",
    "\n",
    "cross_entropy_loss = nn.CrossEntropyLoss()\n",
    "output = cross_entropy_loss(input, target)\n",
    "output.backward()\n",
    "\n",
    "print('input: ', input)\n",
    "print('target: ', target)\n",
    "print('output: ', output)"
   ]
  }
 ],
 "metadata": {
  "kernelspec": {
   "display_name": "Python 3",
   "language": "python",
   "name": "python3"
  },
  "language_info": {
   "codemirror_mode": {
    "name": "ipython",
    "version": 3
   },
   "file_extension": ".py",
   "mimetype": "text/x-python",
   "name": "python",
   "nbconvert_exporter": "python",
   "pygments_lexer": "ipython3",
   "version": "3.9.6"
  },
  "orig_nbformat": 4,
  "vscode": {
   "interpreter": {
    "hash": "e9fb61b4c72117f5d7b2c8d6242145ec5a71ca8cd00b47ff0a0694a5bc1f5f2f"
   }
  }
 },
 "nbformat": 4,
 "nbformat_minor": 2
}
